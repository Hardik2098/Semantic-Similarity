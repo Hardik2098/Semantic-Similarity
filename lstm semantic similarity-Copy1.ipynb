{
 "cells": [
  {
   "cell_type": "code",
   "execution_count": 1,
   "metadata": {},
   "outputs": [
    {
     "name": "stderr",
     "output_type": "stream",
     "text": [
      "C:\\Anaconda3\\lib\\site-packages\\h5py\\__init__.py:36: FutureWarning: Conversion of the second argument of issubdtype from `float` to `np.floating` is deprecated. In future, it will be treated as `np.float64 == np.dtype(float).type`.\n",
      "  from ._conv import register_converters as _register_converters\n",
      "Using TensorFlow backend.\n",
      "C:\\Anaconda3\\lib\\site-packages\\gensim\\utils.py:1212: UserWarning: detected Windows; aliasing chunkize to chunkize_serial\n",
      "  warnings.warn(\"detected Windows; aliasing chunkize to chunkize_serial\")\n"
     ]
    }
   ],
   "source": [
    "from model import SiameseBiLSTM, as_keras_metric, precision_threshold, recall_threshold\n",
    "from inputHandler import word_embed_meta_data, create_test_data, create_train_dev_set\n",
    "from config import siamese_config\n",
    "from operator import itemgetter\n",
    "import tensorflow as tf\n",
    "from keras.models import load_model\n",
    "import pandas as pd\n",
    "import matplotlib.pyplot as plt"
   ]
  },
  {
   "cell_type": "code",
   "execution_count": 2,
   "metadata": {},
   "outputs": [
    {
     "name": "stdout",
     "output_type": "stream",
     "text": [
      "Embedding matrix shape: (3052, 50)\n",
      "Null word embeddings: 1\n",
      "Train on 450 samples, validate on 49 samples\n",
      "Epoch 1/500\n",
      "450/450 [==============================] - 11s 25ms/step - loss: 0.9081 - acc: 0.5267 - precision: 0.4107 - recall: 0.7643 - val_loss: 0.5680 - val_acc: 0.7143 - val_precision: 0.5122 - val_recall: 1.0000\n",
      "Epoch 2/500\n",
      "450/450 [==============================] - 2s 4ms/step - loss: 0.8450 - acc: 0.5644 - precision: 0.4338 - recall: 0.8312 - val_loss: 0.5369 - val_acc: 0.7755 - val_precision: 0.6176 - val_recall: 1.0000\n",
      "Epoch 3/500\n",
      "450/450 [==============================] - 2s 4ms/step - loss: 0.8763 - acc: 0.5444 - precision: 0.4387 - recall: 0.7804 - val_loss: 0.5741 - val_acc: 0.6939 - val_precision: 0.6176 - val_recall: 1.0000\n",
      "Epoch 4/500\n",
      "450/450 [==============================] - 2s 4ms/step - loss: 0.7638 - acc: 0.5933 - precision: 0.4552 - recall: 0.8174 - val_loss: 0.5293 - val_acc: 0.5918 - val_precision: 0.6333 - val_recall: 0.9048\n",
      "Epoch 5/500\n",
      "450/450 [==============================] - 2s 4ms/step - loss: 0.7754 - acc: 0.5956 - precision: 0.4432 - recall: 0.7871 - val_loss: 0.5254 - val_acc: 0.6327 - val_precision: 0.6250 - val_recall: 0.9524\n",
      "Epoch 6/500\n",
      "450/450 [==============================] - 2s 4ms/step - loss: 0.7403 - acc: 0.6022 - precision: 0.4611 - recall: 0.7977 - val_loss: 0.5155 - val_acc: 0.6735 - val_precision: 0.6250 - val_recall: 0.9524\n",
      "Epoch 7/500\n",
      "450/450 [==============================] - 2s 4ms/step - loss: 0.7569 - acc: 0.6111 - precision: 0.4498 - recall: 0.7935 - val_loss: 0.5528 - val_acc: 0.7143 - val_precision: 0.5833 - val_recall: 1.0000\n",
      "Epoch 8/500\n",
      "450/450 [==============================] - 2s 4ms/step - loss: 0.7821 - acc: 0.5867 - precision: 0.4346 - recall: 0.6983 - val_loss: 0.5965 - val_acc: 0.7347 - val_precision: 0.5676 - val_recall: 1.0000\n",
      "Epoch 9/500\n",
      "450/450 [==============================] - 2s 4ms/step - loss: 0.7331 - acc: 0.6111 - precision: 0.4493 - recall: 0.6974 - val_loss: 0.6193 - val_acc: 0.7551 - val_precision: 0.5833 - val_recall: 1.0000\n",
      "Epoch 10/500\n",
      "450/450 [==============================] - 2s 4ms/step - loss: 0.7292 - acc: 0.6089 - precision: 0.4581 - recall: 0.7498 - val_loss: 0.5485 - val_acc: 0.7347 - val_precision: 0.6364 - val_recall: 1.0000\n",
      "Epoch 11/500\n",
      "450/450 [==============================] - 2s 4ms/step - loss: 0.7476 - acc: 0.6067 - precision: 0.4652 - recall: 0.7596 - val_loss: 0.5211 - val_acc: 0.7755 - val_precision: 0.6176 - val_recall: 1.0000\n",
      "Epoch 12/500\n",
      "450/450 [==============================] - 2s 5ms/step - loss: 0.6937 - acc: 0.6289 - precision: 0.4456 - recall: 0.7858 - val_loss: 0.5268 - val_acc: 0.8163 - val_precision: 0.6000 - val_recall: 1.0000\n",
      "Epoch 13/500\n",
      "450/450 [==============================] - 2s 5ms/step - loss: 0.6875 - acc: 0.6356 - precision: 0.4772 - recall: 0.7834 - val_loss: 0.5157 - val_acc: 0.7143 - val_precision: 0.5676 - val_recall: 1.0000\n",
      "Epoch 14/500\n",
      "450/450 [==============================] - 2s 4ms/step - loss: 0.7093 - acc: 0.5956 - precision: 0.4605 - recall: 0.7835 - val_loss: 0.5827 - val_acc: 0.6735 - val_precision: 0.5250 - val_recall: 1.0000\n",
      "Epoch 15/500\n",
      "450/450 [==============================] - 2s 4ms/step - loss: 0.6763 - acc: 0.6089 - precision: 0.4653 - recall: 0.8092 - val_loss: 0.5211 - val_acc: 0.7347 - val_precision: 0.5385 - val_recall: 1.0000\n",
      "Epoch 16/500\n",
      "450/450 [==============================] - 2s 4ms/step - loss: 0.7210 - acc: 0.6178 - precision: 0.4538 - recall: 0.7291 - val_loss: 0.5268 - val_acc: 0.6735 - val_precision: 0.6176 - val_recall: 1.0000\n",
      "Epoch 17/500\n",
      "450/450 [==============================] - 2s 4ms/step - loss: 0.6741 - acc: 0.6067 - precision: 0.4684 - recall: 0.8023 - val_loss: 0.5663 - val_acc: 0.6531 - val_precision: 0.5517 - val_recall: 0.7619\n",
      "Epoch 18/500\n",
      "450/450 [==============================] - 2s 4ms/step - loss: 0.6923 - acc: 0.6111 - precision: 0.4480 - recall: 0.7245 - val_loss: 0.5540 - val_acc: 0.6735 - val_precision: 0.5806 - val_recall: 0.8571\n",
      "Epoch 19/500\n",
      "450/450 [==============================] - 2s 4ms/step - loss: 0.7006 - acc: 0.6267 - precision: 0.4623 - recall: 0.7308 - val_loss: 0.5274 - val_acc: 0.7143 - val_precision: 0.6000 - val_recall: 1.0000\n",
      "Epoch 20/500\n",
      "450/450 [==============================] - 2s 4ms/step - loss: 0.7349 - acc: 0.6022 - precision: 0.4462 - recall: 0.7709 - val_loss: 0.5480 - val_acc: 0.7143 - val_precision: 0.5676 - val_recall: 1.0000\n",
      "Epoch 21/500\n",
      "450/450 [==============================] - 2s 4ms/step - loss: 0.7135 - acc: 0.6156 - precision: 0.4472 - recall: 0.7674 - val_loss: 0.5262 - val_acc: 0.6939 - val_precision: 0.6129 - val_recall: 0.9048\n",
      "Epoch 22/500\n",
      "450/450 [==============================] - 2s 4ms/step - loss: 0.7117 - acc: 0.5933 - precision: 0.4297 - recall: 0.6602 - val_loss: 0.6089 - val_acc: 0.6327 - val_precision: 0.7222 - val_recall: 0.6190\n",
      "Epoch 23/500\n",
      "450/450 [==============================] - 2s 4ms/step - loss: 0.6914 - acc: 0.6244 - precision: 0.4571 - recall: 0.7397 - val_loss: 0.5902 - val_acc: 0.6531 - val_precision: 0.6087 - val_recall: 0.6667\n",
      "Epoch 24/500\n",
      "450/450 [==============================] - 2s 4ms/step - loss: 0.7044 - acc: 0.6244 - precision: 0.4583 - recall: 0.7237 - val_loss: 0.5687 - val_acc: 0.5918 - val_precision: 0.6296 - val_recall: 0.8095\n",
      "Epoch 25/500\n",
      "450/450 [==============================] - 2s 4ms/step - loss: 0.6388 - acc: 0.6622 - precision: 0.4747 - recall: 0.7888 - val_loss: 0.5211 - val_acc: 0.6327 - val_precision: 0.5882 - val_recall: 0.9524\n",
      "Epoch 26/500\n",
      "450/450 [==============================] - 2s 4ms/step - loss: 0.6301 - acc: 0.6667 - precision: 0.4899 - recall: 0.8079 - val_loss: 0.5213 - val_acc: 0.7143 - val_precision: 0.6061 - val_recall: 0.9524\n",
      "Epoch 27/500\n",
      "450/450 [==============================] - 2s 4ms/step - loss: 0.6516 - acc: 0.6533 - precision: 0.4680 - recall: 0.7570 - val_loss: 0.5229 - val_acc: 0.7143 - val_precision: 0.6129 - val_recall: 0.9048\n",
      "Epoch 28/500\n",
      "450/450 [==============================] - 2s 4ms/step - loss: 0.6293 - acc: 0.6622 - precision: 0.5033 - recall: 0.8185 - val_loss: 0.5020 - val_acc: 0.6939 - val_precision: 0.5862 - val_recall: 0.8095\n",
      "Epoch 29/500\n",
      "450/450 [==============================] - 2s 4ms/step - loss: 0.6667 - acc: 0.6133 - precision: 0.4892 - recall: 0.7705 - val_loss: 0.4717 - val_acc: 0.7551 - val_precision: 0.6552 - val_recall: 0.9048\n",
      "Epoch 30/500\n",
      "450/450 [==============================] - 2s 4ms/step - loss: 0.6716 - acc: 0.6378 - precision: 0.4802 - recall: 0.7483 - val_loss: 0.4691 - val_acc: 0.7347 - val_precision: 0.6364 - val_recall: 1.0000\n",
      "Epoch 31/500\n",
      "450/450 [==============================] - 2s 4ms/step - loss: 0.6431 - acc: 0.6533 - precision: 0.4686 - recall: 0.7090 - val_loss: 0.4496 - val_acc: 0.7551 - val_precision: 0.7000 - val_recall: 1.0000\n",
      "Epoch 32/500\n",
      "450/450 [==============================] - 2s 4ms/step - loss: 0.6647 - acc: 0.6089 - precision: 0.4789 - recall: 0.8156 - val_loss: 0.4492 - val_acc: 0.7551 - val_precision: 0.6897 - val_recall: 0.9524\n",
      "Epoch 33/500\n",
      "450/450 [==============================] - 2s 4ms/step - loss: 0.6656 - acc: 0.6289 - precision: 0.4854 - recall: 0.7718 - val_loss: 0.4527 - val_acc: 0.7755 - val_precision: 0.6897 - val_recall: 0.9524\n",
      "Epoch 34/500\n",
      "450/450 [==============================] - 2s 4ms/step - loss: 0.6862 - acc: 0.6244 - precision: 0.4571 - recall: 0.7337 - val_loss: 0.4699 - val_acc: 0.7347 - val_precision: 0.7037 - val_recall: 0.9048\n",
      "Epoch 35/500\n",
      "450/450 [==============================] - 2s 4ms/step - loss: 0.6953 - acc: 0.6178 - precision: 0.4636 - recall: 0.7234 - val_loss: 0.4757 - val_acc: 0.7143 - val_precision: 0.6774 - val_recall: 1.0000\n",
      "Epoch 36/500\n",
      "450/450 [==============================] - 2s 4ms/step - loss: 0.6311 - acc: 0.6800 - precision: 0.4978 - recall: 0.7487 - val_loss: 0.5054 - val_acc: 0.7143 - val_precision: 0.6250 - val_recall: 0.9524\n",
      "Epoch 37/500\n",
      "450/450 [==============================] - 2s 4ms/step - loss: 0.6803 - acc: 0.6089 - precision: 0.4759 - recall: 0.7676 - val_loss: 0.5234 - val_acc: 0.7143 - val_precision: 0.6061 - val_recall: 0.9524\n",
      "Epoch 38/500\n",
      "450/450 [==============================] - 2s 4ms/step - loss: 0.6232 - acc: 0.6667 - precision: 0.4712 - recall: 0.7291 - val_loss: 0.6787 - val_acc: 0.6531 - val_precision: 0.5128 - val_recall: 0.9524\n",
      "Epoch 39/500\n",
      "450/450 [==============================] - 2s 4ms/step - loss: 0.6771 - acc: 0.6378 - precision: 0.4497 - recall: 0.6557 - val_loss: 0.6380 - val_acc: 0.6327 - val_precision: 0.5405 - val_recall: 0.9524\n",
      "Epoch 40/500\n",
      "450/450 [==============================] - 2s 4ms/step - loss: 0.6706 - acc: 0.6267 - precision: 0.4712 - recall: 0.6991 - val_loss: 0.5697 - val_acc: 0.6735 - val_precision: 0.6000 - val_recall: 1.0000\n",
      "Epoch 41/500\n",
      "450/450 [==============================] - 2s 4ms/step - loss: 0.6661 - acc: 0.6222 - precision: 0.4596 - recall: 0.7390 - val_loss: 0.5496 - val_acc: 0.6939 - val_precision: 0.6176 - val_recall: 1.0000\n",
      "Epoch 42/500\n",
      "450/450 [==============================] - 2s 4ms/step - loss: 0.6386 - acc: 0.6267 - precision: 0.4548 - recall: 0.7255 - val_loss: 0.5505 - val_acc: 0.6939 - val_precision: 0.5833 - val_recall: 1.0000\n",
      "Epoch 43/500\n",
      "450/450 [==============================] - 2s 4ms/step - loss: 0.6601 - acc: 0.6244 - precision: 0.4610 - recall: 0.7348 - val_loss: 0.5136 - val_acc: 0.7143 - val_precision: 0.6000 - val_recall: 1.0000\n",
      "Epoch 44/500\n",
      "450/450 [==============================] - 2s 4ms/step - loss: 0.6569 - acc: 0.6200 - precision: 0.4489 - recall: 0.7219 - val_loss: 0.4972 - val_acc: 0.7755 - val_precision: 0.6176 - val_recall: 1.0000\n",
      "Epoch 45/500\n",
      "450/450 [==============================] - 2s 4ms/step - loss: 0.6611 - acc: 0.6333 - precision: 0.4643 - recall: 0.7282 - val_loss: 0.5402 - val_acc: 0.7551 - val_precision: 0.5526 - val_recall: 1.0000\n",
      "Epoch 46/500\n",
      "450/450 [==============================] - 2s 4ms/step - loss: 0.6450 - acc: 0.6489 - precision: 0.4680 - recall: 0.7743 - val_loss: 0.5657 - val_acc: 0.7551 - val_precision: 0.5122 - val_recall: 1.0000\n",
      "Epoch 47/500\n",
      "450/450 [==============================] - 2s 4ms/step - loss: 0.6109 - acc: 0.6622 - precision: 0.4723 - recall: 0.7622 - val_loss: 0.5288 - val_acc: 0.7551 - val_precision: 0.5385 - val_recall: 1.0000\n",
      "Epoch 48/500\n",
      "450/450 [==============================] - 2s 4ms/step - loss: 0.5998 - acc: 0.6667 - precision: 0.4744 - recall: 0.8107 - val_loss: 0.4919 - val_acc: 0.7959 - val_precision: 0.5676 - val_recall: 1.0000\n",
      "Epoch 49/500\n",
      "450/450 [==============================] - 2s 4ms/step - loss: 0.6246 - acc: 0.6222 - precision: 0.4946 - recall: 0.7944 - val_loss: 0.4714 - val_acc: 0.7755 - val_precision: 0.6364 - val_recall: 1.0000\n",
      "Epoch 50/500\n",
      "450/450 [==============================] - 2s 4ms/step - loss: 0.6550 - acc: 0.6356 - precision: 0.4759 - recall: 0.7736 - val_loss: 0.4757 - val_acc: 0.7551 - val_precision: 0.6364 - val_recall: 1.0000\n",
      "Epoch 51/500\n",
      "450/450 [==============================] - 2s 3ms/step - loss: 0.6139 - acc: 0.6756 - precision: 0.4952 - recall: 0.8151 - val_loss: 0.4736 - val_acc: 0.7347 - val_precision: 0.6562 - val_recall: 1.0000\n",
      "Epoch 52/500\n",
      "450/450 [==============================] - 2s 4ms/step - loss: 0.6214 - acc: 0.6467 - precision: 0.4779 - recall: 0.7654 - val_loss: 0.4773 - val_acc: 0.7551 - val_precision: 0.6562 - val_recall: 1.0000\n",
      "Epoch 53/500\n",
      "450/450 [==============================] - 2s 3ms/step - loss: 0.5775 - acc: 0.6867 - precision: 0.4930 - recall: 0.8020 - val_loss: 0.4839 - val_acc: 0.7551 - val_precision: 0.6562 - val_recall: 1.0000\n",
      "Epoch 54/500\n",
      "450/450 [==============================] - 1s 3ms/step - loss: 0.6480 - acc: 0.6356 - precision: 0.4707 - recall: 0.7311 - val_loss: 0.4838 - val_acc: 0.7143 - val_precision: 0.6562 - val_recall: 1.0000\n",
      "Epoch 55/500\n",
      "450/450 [==============================] - 1s 3ms/step - loss: 0.6138 - acc: 0.6511 - precision: 0.4847 - recall: 0.8314 - val_loss: 0.4881 - val_acc: 0.7143 - val_precision: 0.6562 - val_recall: 1.0000\n",
      "Epoch 56/500\n",
      "450/450 [==============================] - 1s 3ms/step - loss: 0.6244 - acc: 0.6333 - precision: 0.4763 - recall: 0.7852 - val_loss: 0.4957 - val_acc: 0.7143 - val_precision: 0.6333 - val_recall: 0.9048\n",
      "Epoch 57/500\n",
      "450/450 [==============================] - 1s 3ms/step - loss: 0.6281 - acc: 0.6333 - precision: 0.4646 - recall: 0.7774 - val_loss: 0.5002 - val_acc: 0.6939 - val_precision: 0.6333 - val_recall: 0.9048\n",
      "Epoch 58/500\n",
      "450/450 [==============================] - 2s 4ms/step - loss: 0.6292 - acc: 0.6222 - precision: 0.4769 - recall: 0.8032 - val_loss: 0.4935 - val_acc: 0.7143 - val_precision: 0.6250 - val_recall: 0.9524\n",
      "Epoch 59/500\n",
      "450/450 [==============================] - 2s 4ms/step - loss: 0.6122 - acc: 0.6644 - precision: 0.4870 - recall: 0.8517 - val_loss: 0.5128 - val_acc: 0.6735 - val_precision: 0.6250 - val_recall: 0.9524\n",
      "Epoch 60/500\n",
      "450/450 [==============================] - 2s 4ms/step - loss: 0.6222 - acc: 0.6378 - precision: 0.4757 - recall: 0.8339 - val_loss: 0.5153 - val_acc: 0.6939 - val_precision: 0.6061 - val_recall: 0.9524\n",
      "Epoch 61/500\n",
      "450/450 [==============================] - 1s 3ms/step - loss: 0.6167 - acc: 0.6511 - precision: 0.4891 - recall: 0.8206 - val_loss: 0.4860 - val_acc: 0.7959 - val_precision: 0.6000 - val_recall: 1.0000\n",
      "Epoch 62/500\n",
      "450/450 [==============================] - 1s 3ms/step - loss: 0.6358 - acc: 0.6089 - precision: 0.4672 - recall: 0.7801 - val_loss: 0.5072 - val_acc: 0.7551 - val_precision: 0.5676 - val_recall: 1.0000\n",
      "Epoch 63/500\n",
      "450/450 [==============================] - 1s 3ms/step - loss: 0.6187 - acc: 0.6511 - precision: 0.4844 - recall: 0.8113 - val_loss: 0.5494 - val_acc: 0.7143 - val_precision: 0.5405 - val_recall: 0.9524\n",
      "Epoch 64/500\n",
      "450/450 [==============================] - 1s 3ms/step - loss: 0.6167 - acc: 0.6400 - precision: 0.4817 - recall: 0.8418 - val_loss: 0.5392 - val_acc: 0.7143 - val_precision: 0.5405 - val_recall: 0.9524\n",
      "Epoch 65/500\n",
      "450/450 [==============================] - 2s 3ms/step - loss: 0.6247 - acc: 0.6267 - precision: 0.4807 - recall: 0.8037 - val_loss: 0.5324 - val_acc: 0.7143 - val_precision: 0.5882 - val_recall: 0.9524\n",
      "Epoch 66/500\n",
      "450/450 [==============================] - 1s 3ms/step - loss: 0.6392 - acc: 0.6156 - precision: 0.4865 - recall: 0.7969 - val_loss: 0.5471 - val_acc: 0.6939 - val_precision: 0.6786 - val_recall: 0.9048\n",
      "Epoch 67/500\n",
      "450/450 [==============================] - 1s 3ms/step - loss: 0.6252 - acc: 0.6444 - precision: 0.4816 - recall: 0.7851 - val_loss: 0.5882 - val_acc: 0.5714 - val_precision: 0.6522 - val_recall: 0.7143\n",
      "Epoch 68/500\n",
      "450/450 [==============================] - 2s 4ms/step - loss: 0.6287 - acc: 0.6511 - precision: 0.4813 - recall: 0.7573 - val_loss: 0.6035 - val_acc: 0.5714 - val_precision: 0.6957 - val_recall: 0.7619\n",
      "Epoch 69/500\n",
      "450/450 [==============================] - 2s 4ms/step - loss: 0.6096 - acc: 0.6511 - precision: 0.4712 - recall: 0.7698 - val_loss: 0.5699 - val_acc: 0.6122 - val_precision: 0.6667 - val_recall: 0.6667\n",
      "Epoch 70/500\n",
      "450/450 [==============================] - 2s 4ms/step - loss: 0.6201 - acc: 0.6711 - precision: 0.4789 - recall: 0.7552 - val_loss: 0.5754 - val_acc: 0.6122 - val_precision: 0.6957 - val_recall: 0.7619\n",
      "Epoch 71/500\n",
      "450/450 [==============================] - 2s 3ms/step - loss: 0.6232 - acc: 0.6267 - precision: 0.4598 - recall: 0.7588 - val_loss: 0.6180 - val_acc: 0.6122 - val_precision: 0.6471 - val_recall: 0.5238\n",
      "Epoch 72/500\n",
      "450/450 [==============================] - 1s 3ms/step - loss: 0.6136 - acc: 0.6333 - precision: 0.4770 - recall: 0.7622 - val_loss: 0.5923 - val_acc: 0.6327 - val_precision: 0.6316 - val_recall: 0.5714\n",
      "Epoch 73/500\n",
      "450/450 [==============================] - 1s 3ms/step - loss: 0.6188 - acc: 0.6267 - precision: 0.4678 - recall: 0.8003 - val_loss: 0.5662 - val_acc: 0.6735 - val_precision: 0.6250 - val_recall: 0.7143\n",
      "Epoch 74/500\n",
      "450/450 [==============================] - 1s 3ms/step - loss: 0.5754 - acc: 0.6600 - precision: 0.4866 - recall: 0.8096 - val_loss: 0.5419 - val_acc: 0.6122 - val_precision: 0.6333 - val_recall: 0.9048\n",
      "Epoch 75/500\n",
      "450/450 [==============================] - 2s 3ms/step - loss: 0.6163 - acc: 0.6333 - precision: 0.4879 - recall: 0.7613 - val_loss: 0.5379 - val_acc: 0.6327 - val_precision: 0.6129 - val_recall: 0.9048\n"
     ]
    },
    {
     "name": "stdout",
     "output_type": "stream",
     "text": [
      "Epoch 76/500\n",
      "450/450 [==============================] - 2s 3ms/step - loss: 0.5941 - acc: 0.6578 - precision: 0.4910 - recall: 0.7970 - val_loss: 0.5394 - val_acc: 0.6531 - val_precision: 0.6061 - val_recall: 0.9524\n",
      "Epoch 77/500\n",
      "450/450 [==============================] - 1s 3ms/step - loss: 0.6112 - acc: 0.6644 - precision: 0.4940 - recall: 0.7511 - val_loss: 0.5467 - val_acc: 0.6735 - val_precision: 0.5676 - val_recall: 1.0000\n",
      "Epoch 78/500\n",
      "450/450 [==============================] - 1s 3ms/step - loss: 0.6365 - acc: 0.6267 - precision: 0.4811 - recall: 0.7923 - val_loss: 0.5363 - val_acc: 0.6735 - val_precision: 0.5833 - val_recall: 1.0000\n",
      "Epoch 79/500\n",
      "450/450 [==============================] - 1s 3ms/step - loss: 0.6079 - acc: 0.6422 - precision: 0.4819 - recall: 0.7918 - val_loss: 0.5261 - val_acc: 0.7143 - val_precision: 0.5833 - val_recall: 1.0000\n",
      "Epoch 80/500\n",
      "450/450 [==============================] - 2s 4ms/step - loss: 0.6090 - acc: 0.6489 - precision: 0.4870 - recall: 0.7983 - val_loss: 0.5157 - val_acc: 0.7143 - val_precision: 0.5833 - val_recall: 1.0000\n",
      "Epoch 81/500\n",
      "450/450 [==============================] - 2s 4ms/step - loss: 0.6386 - acc: 0.6200 - precision: 0.4611 - recall: 0.7693 - val_loss: 0.5031 - val_acc: 0.7347 - val_precision: 0.6176 - val_recall: 1.0000\n",
      "Epoch 82/500\n",
      "450/450 [==============================] - 1s 3ms/step - loss: 0.6177 - acc: 0.6311 - precision: 0.4667 - recall: 0.8147 - val_loss: 0.5083 - val_acc: 0.7755 - val_precision: 0.5833 - val_recall: 1.0000\n",
      "Epoch 83/500\n",
      "450/450 [==============================] - 2s 3ms/step - loss: 0.6128 - acc: 0.6400 - precision: 0.4579 - recall: 0.8114 - val_loss: 0.5215 - val_acc: 0.7143 - val_precision: 0.6000 - val_recall: 1.0000\n",
      "Epoch 84/500\n",
      "450/450 [==============================] - 2s 4ms/step - loss: 0.5863 - acc: 0.6600 - precision: 0.4812 - recall: 0.8305 - val_loss: 0.5174 - val_acc: 0.7347 - val_precision: 0.5833 - val_recall: 1.0000\n",
      "Epoch 85/500\n",
      "450/450 [==============================] - 1s 3ms/step - loss: 0.6084 - acc: 0.6511 - precision: 0.4619 - recall: 0.8224 - val_loss: 0.5194 - val_acc: 0.7347 - val_precision: 0.5676 - val_recall: 1.0000\n",
      "Epoch 86/500\n",
      "450/450 [==============================] - 1s 3ms/step - loss: 0.5828 - acc: 0.6844 - precision: 0.4857 - recall: 0.8331 - val_loss: 0.5317 - val_acc: 0.7143 - val_precision: 0.5714 - val_recall: 0.9524\n",
      "Epoch 87/500\n",
      "450/450 [==============================] - 1s 3ms/step - loss: 0.6397 - acc: 0.6400 - precision: 0.4650 - recall: 0.8016 - val_loss: 0.5401 - val_acc: 0.6735 - val_precision: 0.5714 - val_recall: 0.9524\n",
      "Epoch 88/500\n",
      "450/450 [==============================] - 1s 3ms/step - loss: 0.5998 - acc: 0.6489 - precision: 0.4903 - recall: 0.8155 - val_loss: 0.5180 - val_acc: 0.7143 - val_precision: 0.5833 - val_recall: 1.0000\n",
      "Epoch 89/500\n",
      "450/450 [==============================] - 1s 3ms/step - loss: 0.5661 - acc: 0.7022 - precision: 0.4793 - recall: 0.8336 - val_loss: 0.5193 - val_acc: 0.7143 - val_precision: 0.5833 - val_recall: 1.0000\n",
      "Epoch 90/500\n",
      "450/450 [==============================] - 2s 4ms/step - loss: 0.5899 - acc: 0.6422 - precision: 0.4778 - recall: 0.8284 - val_loss: 0.5167 - val_acc: 0.7551 - val_precision: 0.5833 - val_recall: 1.0000\n",
      "Epoch 91/500\n",
      "450/450 [==============================] - 1s 3ms/step - loss: 0.6188 - acc: 0.6267 - precision: 0.4749 - recall: 0.8388 - val_loss: 0.5166 - val_acc: 0.7143 - val_precision: 0.5833 - val_recall: 1.0000\n",
      "Epoch 92/500\n",
      "450/450 [==============================] - 1s 3ms/step - loss: 0.6139 - acc: 0.6378 - precision: 0.4654 - recall: 0.7593 - val_loss: 0.5227 - val_acc: 0.7347 - val_precision: 0.5833 - val_recall: 1.0000\n",
      "Epoch 93/500\n",
      "450/450 [==============================] - 1s 3ms/step - loss: 0.6045 - acc: 0.6533 - precision: 0.4833 - recall: 0.8173 - val_loss: 0.5274 - val_acc: 0.7347 - val_precision: 0.5833 - val_recall: 1.0000\n",
      "Epoch 94/500\n",
      "450/450 [==============================] - 1s 3ms/step - loss: 0.6005 - acc: 0.6222 - precision: 0.4908 - recall: 0.8501 - val_loss: 0.5250 - val_acc: 0.6735 - val_precision: 0.5882 - val_recall: 0.9524\n",
      "Epoch 95/500\n",
      "450/450 [==============================] - 1s 3ms/step - loss: 0.5977 - acc: 0.6556 - precision: 0.4705 - recall: 0.8381 - val_loss: 0.5314 - val_acc: 0.6531 - val_precision: 0.6552 - val_recall: 0.9048\n",
      "Epoch 96/500\n",
      "450/450 [==============================] - 2s 3ms/step - loss: 0.5844 - acc: 0.6733 - precision: 0.4729 - recall: 0.8271 - val_loss: 0.5477 - val_acc: 0.6327 - val_precision: 0.6552 - val_recall: 0.9048\n",
      "Epoch 97/500\n",
      "450/450 [==============================] - 2s 4ms/step - loss: 0.5972 - acc: 0.6444 - precision: 0.4743 - recall: 0.8537 - val_loss: 0.5687 - val_acc: 0.6531 - val_precision: 0.6522 - val_recall: 0.7143\n",
      "Epoch 98/500\n",
      "450/450 [==============================] - 2s 4ms/step - loss: 0.5934 - acc: 0.6467 - precision: 0.4672 - recall: 0.8023 - val_loss: 0.5580 - val_acc: 0.6327 - val_precision: 0.6071 - val_recall: 0.8095\n",
      "Epoch 99/500\n",
      "450/450 [==============================] - 2s 4ms/step - loss: 0.6164 - acc: 0.6222 - precision: 0.4673 - recall: 0.7995 - val_loss: 0.5266 - val_acc: 0.6122 - val_precision: 0.6129 - val_recall: 0.9048\n",
      "Epoch 100/500\n",
      "450/450 [==============================] - 2s 5ms/step - loss: 0.6105 - acc: 0.6289 - precision: 0.4740 - recall: 0.8371 - val_loss: 0.5235 - val_acc: 0.6735 - val_precision: 0.6333 - val_recall: 0.9048\n",
      "Epoch 101/500\n",
      "450/450 [==============================] - 2s 4ms/step - loss: 0.6112 - acc: 0.6311 - precision: 0.4812 - recall: 0.8031 - val_loss: 0.5184 - val_acc: 0.6939 - val_precision: 0.6061 - val_recall: 0.9524\n",
      "Epoch 102/500\n",
      "450/450 [==============================] - 2s 4ms/step - loss: 0.6138 - acc: 0.6311 - precision: 0.4774 - recall: 0.8042 - val_loss: 0.5169 - val_acc: 0.6939 - val_precision: 0.5833 - val_recall: 1.0000\n",
      "Epoch 103/500\n",
      "450/450 [==============================] - 2s 4ms/step - loss: 0.6071 - acc: 0.6467 - precision: 0.4505 - recall: 0.7829 - val_loss: 0.5068 - val_acc: 0.6939 - val_precision: 0.6897 - val_recall: 0.9524\n",
      "Epoch 104/500\n",
      "450/450 [==============================] - 2s 4ms/step - loss: 0.5977 - acc: 0.6200 - precision: 0.4860 - recall: 0.8353 - val_loss: 0.4804 - val_acc: 0.7347 - val_precision: 0.6176 - val_recall: 1.0000\n",
      "Epoch 105/500\n",
      "450/450 [==============================] - 1s 3ms/step - loss: 0.6130 - acc: 0.6289 - precision: 0.4679 - recall: 0.8022 - val_loss: 0.4899 - val_acc: 0.7755 - val_precision: 0.6000 - val_recall: 1.0000\n",
      "Epoch 106/500\n",
      "450/450 [==============================] - 2s 4ms/step - loss: 0.6190 - acc: 0.6200 - precision: 0.4817 - recall: 0.7744 - val_loss: 0.4979 - val_acc: 0.7347 - val_precision: 0.5882 - val_recall: 0.9524\n",
      "Epoch 107/500\n",
      "450/450 [==============================] - 1s 3ms/step - loss: 0.6046 - acc: 0.6156 - precision: 0.4907 - recall: 0.8009 - val_loss: 0.5061 - val_acc: 0.7347 - val_precision: 0.6061 - val_recall: 0.9524\n",
      "Epoch 108/500\n",
      "450/450 [==============================] - 2s 3ms/step - loss: 0.6085 - acc: 0.6356 - precision: 0.4759 - recall: 0.7760 - val_loss: 0.5293 - val_acc: 0.6939 - val_precision: 0.6061 - val_recall: 0.9524\n",
      "Epoch 109/500\n",
      "450/450 [==============================] - 2s 4ms/step - loss: 0.6282 - acc: 0.6356 - precision: 0.4657 - recall: 0.7516 - val_loss: 0.5520 - val_acc: 0.6327 - val_precision: 0.6667 - val_recall: 0.8571\n",
      "Epoch 110/500\n",
      "450/450 [==============================] - 2s 4ms/step - loss: 0.6091 - acc: 0.6444 - precision: 0.5010 - recall: 0.7805 - val_loss: 0.5565 - val_acc: 0.5714 - val_precision: 0.6429 - val_recall: 0.8571\n",
      "Epoch 111/500\n",
      "450/450 [==============================] - 1s 3ms/step - loss: 0.5907 - acc: 0.6711 - precision: 0.4869 - recall: 0.8165 - val_loss: 0.5609 - val_acc: 0.5918 - val_precision: 0.7037 - val_recall: 0.9048\n",
      "Epoch 112/500\n",
      "450/450 [==============================] - 2s 4ms/step - loss: 0.6162 - acc: 0.6356 - precision: 0.4593 - recall: 0.7419 - val_loss: 0.5479 - val_acc: 0.6327 - val_precision: 0.6562 - val_recall: 1.0000\n",
      "Epoch 113/500\n",
      "450/450 [==============================] - 1s 3ms/step - loss: 0.6013 - acc: 0.6356 - precision: 0.4671 - recall: 0.8275 - val_loss: 0.5494 - val_acc: 0.6531 - val_precision: 0.5833 - val_recall: 1.0000\n"
     ]
    },
    {
     "name": "stdout",
     "output_type": "stream",
     "text": [
      "Epoch 114/500\n",
      "450/450 [==============================] - 1s 3ms/step - loss: 0.5993 - acc: 0.6444 - precision: 0.4797 - recall: 0.8159 - val_loss: 0.5495 - val_acc: 0.7755 - val_precision: 0.5122 - val_recall: 1.0000\n",
      "Epoch 115/500\n",
      "450/450 [==============================] - 1s 3ms/step - loss: 0.6140 - acc: 0.6467 - precision: 0.4629 - recall: 0.7443 - val_loss: 0.5323 - val_acc: 0.7959 - val_precision: 0.5526 - val_recall: 1.0000\n",
      "Epoch 116/500\n",
      "450/450 [==============================] - 1s 3ms/step - loss: 0.6291 - acc: 0.6444 - precision: 0.4468 - recall: 0.7902 - val_loss: 0.5437 - val_acc: 0.6735 - val_precision: 0.6000 - val_recall: 1.0000\n",
      "Epoch 117/500\n",
      "450/450 [==============================] - 1s 3ms/step - loss: 0.6144 - acc: 0.6311 - precision: 0.4730 - recall: 0.8306 - val_loss: 0.5747 - val_acc: 0.6735 - val_precision: 0.5667 - val_recall: 0.8095\n",
      "Epoch 118/500\n",
      "450/450 [==============================] - 1s 3ms/step - loss: 0.5971 - acc: 0.6289 - precision: 0.5039 - recall: 0.8896 - val_loss: 0.5574 - val_acc: 0.6327 - val_precision: 0.6061 - val_recall: 0.9524\n",
      "Epoch 119/500\n",
      "450/450 [==============================] - 2s 3ms/step - loss: 0.6364 - acc: 0.6133 - precision: 0.4376 - recall: 0.7819 - val_loss: 0.5979 - val_acc: 0.6327 - val_precision: 0.5652 - val_recall: 0.6190\n",
      "Epoch 120/500\n",
      "450/450 [==============================] - 1s 3ms/step - loss: 0.6103 - acc: 0.6533 - precision: 0.4507 - recall: 0.8093 - val_loss: 0.6030 - val_acc: 0.6122 - val_precision: 0.5417 - val_recall: 0.6190\n",
      "Epoch 121/500\n",
      "450/450 [==============================] - 2s 3ms/step - loss: 0.6095 - acc: 0.6222 - precision: 0.4400 - recall: 0.8419 - val_loss: 0.5771 - val_acc: 0.6327 - val_precision: 0.5714 - val_recall: 0.7619\n",
      "Epoch 122/500\n",
      "450/450 [==============================] - 2s 4ms/step - loss: 0.5944 - acc: 0.6622 - precision: 0.4662 - recall: 0.8540 - val_loss: 0.5506 - val_acc: 0.6327 - val_precision: 0.5938 - val_recall: 0.9048\n",
      "Epoch 123/500\n",
      "450/450 [==============================] - 1s 3ms/step - loss: 0.6103 - acc: 0.6400 - precision: 0.4637 - recall: 0.8311 - val_loss: 0.5372 - val_acc: 0.6531 - val_precision: 0.6176 - val_recall: 1.0000\n",
      "Epoch 124/500\n",
      "450/450 [==============================] - 2s 4ms/step - loss: 0.5916 - acc: 0.6400 - precision: 0.4872 - recall: 0.8362 - val_loss: 0.5299 - val_acc: 0.6735 - val_precision: 0.6176 - val_recall: 1.0000\n",
      "Epoch 125/500\n",
      "450/450 [==============================] - 2s 4ms/step - loss: 0.6104 - acc: 0.6422 - precision: 0.4570 - recall: 0.7971 - val_loss: 0.5218 - val_acc: 0.7347 - val_precision: 0.5833 - val_recall: 1.0000\n",
      "Epoch 126/500\n",
      "450/450 [==============================] - 1s 3ms/step - loss: 0.6117 - acc: 0.6133 - precision: 0.4880 - recall: 0.8299 - val_loss: 0.5215 - val_acc: 0.6735 - val_precision: 0.5833 - val_recall: 1.0000\n",
      "Epoch 127/500\n",
      "450/450 [==============================] - 1s 3ms/step - loss: 0.5974 - acc: 0.6556 - precision: 0.4619 - recall: 0.8394 - val_loss: 0.5243 - val_acc: 0.6735 - val_precision: 0.6000 - val_recall: 1.0000\n",
      "Epoch 128/500\n",
      "450/450 [==============================] - 2s 3ms/step - loss: 0.6076 - acc: 0.6200 - precision: 0.4827 - recall: 0.8172 - val_loss: 0.5365 - val_acc: 0.6735 - val_precision: 0.6000 - val_recall: 1.0000\n",
      "Epoch 129/500\n",
      "450/450 [==============================] - 1s 3ms/step - loss: 0.6038 - acc: 0.6511 - precision: 0.4719 - recall: 0.7979 - val_loss: 0.5472 - val_acc: 0.6122 - val_precision: 0.6061 - val_recall: 0.9524\n",
      "Epoch 130/500\n",
      "450/450 [==============================] - 2s 3ms/step - loss: 0.6232 - acc: 0.6311 - precision: 0.4490 - recall: 0.7972 - val_loss: 0.5455 - val_acc: 0.7143 - val_precision: 0.5833 - val_recall: 1.0000\n",
      "Epoch 131/500\n",
      "450/450 [==============================] - 2s 4ms/step - loss: 0.6051 - acc: 0.6022 - precision: 0.4797 - recall: 0.8825 - val_loss: 0.5530 - val_acc: 0.6122 - val_precision: 0.5833 - val_recall: 1.0000\n",
      "Epoch 132/500\n",
      "450/450 [==============================] - 2s 4ms/step - loss: 0.5967 - acc: 0.6511 - precision: 0.4783 - recall: 0.8130 - val_loss: 0.5507 - val_acc: 0.6122 - val_precision: 0.5833 - val_recall: 1.0000\n",
      "Epoch 133/500\n",
      "450/450 [==============================] - 2s 4ms/step - loss: 0.5930 - acc: 0.6644 - precision: 0.4747 - recall: 0.8387 - val_loss: 0.5404 - val_acc: 0.6735 - val_precision: 0.5833 - val_recall: 1.0000\n",
      "Epoch 134/500\n",
      "450/450 [==============================] - 1s 3ms/step - loss: 0.5826 - acc: 0.6400 - precision: 0.4823 - recall: 0.8575 - val_loss: 0.5380 - val_acc: 0.6939 - val_precision: 0.5833 - val_recall: 1.0000\n",
      "Epoch 135/500\n",
      "450/450 [==============================] - 1s 3ms/step - loss: 0.6027 - acc: 0.6444 - precision: 0.4556 - recall: 0.8179 - val_loss: 0.5347 - val_acc: 0.7143 - val_precision: 0.5833 - val_recall: 1.0000\n",
      "Epoch 136/500\n",
      "450/450 [==============================] - 1s 3ms/step - loss: 0.5960 - acc: 0.6444 - precision: 0.4780 - recall: 0.8155 - val_loss: 0.5269 - val_acc: 0.6939 - val_precision: 0.6000 - val_recall: 1.0000\n",
      "Epoch 137/500\n",
      "450/450 [==============================] - 1s 3ms/step - loss: 0.5851 - acc: 0.6644 - precision: 0.4746 - recall: 0.8395 - val_loss: 0.5282 - val_acc: 0.6939 - val_precision: 0.5833 - val_recall: 1.0000\n",
      "Epoch 138/500\n",
      "450/450 [==============================] - 2s 4ms/step - loss: 0.6159 - acc: 0.6489 - precision: 0.4831 - recall: 0.8278 - val_loss: 0.5350 - val_acc: 0.6735 - val_precision: 0.6000 - val_recall: 1.0000\n",
      "Epoch 139/500\n",
      "450/450 [==============================] - 2s 3ms/step - loss: 0.6073 - acc: 0.6422 - precision: 0.4712 - recall: 0.8467 - val_loss: 0.5362 - val_acc: 0.6735 - val_precision: 0.5833 - val_recall: 1.0000\n",
      "Epoch 140/500\n",
      "450/450 [==============================] - 1s 3ms/step - loss: 0.5812 - acc: 0.6600 - precision: 0.4946 - recall: 0.8705 - val_loss: 0.5312 - val_acc: 0.7143 - val_precision: 0.6000 - val_recall: 1.0000\n",
      "Epoch 141/500\n",
      "450/450 [==============================] - 1s 3ms/step - loss: 0.6127 - acc: 0.6467 - precision: 0.4573 - recall: 0.8003 - val_loss: 0.5325 - val_acc: 0.7347 - val_precision: 0.6000 - val_recall: 1.0000\n",
      "Epoch 142/500\n",
      "450/450 [==============================] - 2s 3ms/step - loss: 0.5932 - acc: 0.6311 - precision: 0.4818 - recall: 0.8575 - val_loss: 0.5351 - val_acc: 0.7143 - val_precision: 0.6000 - val_recall: 1.0000\n",
      "Epoch 143/500\n",
      "450/450 [==============================] - 1s 3ms/step - loss: 0.5956 - acc: 0.6533 - precision: 0.4766 - recall: 0.8167 - val_loss: 0.5279 - val_acc: 0.7143 - val_precision: 0.6000 - val_recall: 1.0000\n",
      "Epoch 144/500\n",
      "450/450 [==============================] - 1s 3ms/step - loss: 0.5931 - acc: 0.6422 - precision: 0.4885 - recall: 0.8631 - val_loss: 0.5916 - val_acc: 0.7143 - val_precision: 0.5526 - val_recall: 1.0000\n",
      "Epoch 145/500\n",
      "450/450 [==============================] - 2s 3ms/step - loss: 0.6029 - acc: 0.6289 - precision: 0.4788 - recall: 0.8366 - val_loss: 0.5911 - val_acc: 0.6531 - val_precision: 0.5676 - val_recall: 1.0000\n",
      "Epoch 146/500\n",
      "450/450 [==============================] - 2s 4ms/step - loss: 0.6151 - acc: 0.6489 - precision: 0.4724 - recall: 0.8435 - val_loss: 0.5779 - val_acc: 0.6531 - val_precision: 0.5588 - val_recall: 0.9048\n",
      "Epoch 147/500\n",
      "450/450 [==============================] - 2s 4ms/step - loss: 0.6002 - acc: 0.6244 - precision: 0.4605 - recall: 0.8327 - val_loss: 0.5506 - val_acc: 0.7143 - val_precision: 0.5676 - val_recall: 1.0000\n",
      "Epoch 148/500\n",
      "450/450 [==============================] - 2s 4ms/step - loss: 0.6059 - acc: 0.6556 - precision: 0.4752 - recall: 0.8623 - val_loss: 0.5503 - val_acc: 0.7347 - val_precision: 0.5676 - val_recall: 1.0000\n",
      "Epoch 149/500\n",
      "450/450 [==============================] - 2s 5ms/step - loss: 0.6064 - acc: 0.6311 - precision: 0.4660 - recall: 0.8485 - val_loss: 0.5486 - val_acc: 0.7143 - val_precision: 0.5676 - val_recall: 1.0000\n",
      "Epoch 150/500\n",
      "450/450 [==============================] - 2s 4ms/step - loss: 0.6090 - acc: 0.6133 - precision: 0.4641 - recall: 0.8274 - val_loss: 0.5428 - val_acc: 0.7143 - val_precision: 0.5676 - val_recall: 1.0000\n",
      "Epoch 151/500\n",
      "450/450 [==============================] - 2s 5ms/step - loss: 0.6012 - acc: 0.6222 - precision: 0.4744 - recall: 0.8320 - val_loss: 0.5350 - val_acc: 0.6939 - val_precision: 0.5833 - val_recall: 1.0000\n"
     ]
    },
    {
     "name": "stdout",
     "output_type": "stream",
     "text": [
      "Epoch 152/500\n",
      "450/450 [==============================] - 2s 5ms/step - loss: 0.6435 - acc: 0.6156 - precision: 0.4442 - recall: 0.8204 - val_loss: 0.5528 - val_acc: 0.6122 - val_precision: 0.5938 - val_recall: 0.9048\n",
      "Epoch 153/500\n",
      "450/450 [==============================] - 2s 5ms/step - loss: 0.6169 - acc: 0.6489 - precision: 0.4592 - recall: 0.8233 - val_loss: 0.5431 - val_acc: 0.6122 - val_precision: 0.6129 - val_recall: 0.9048\n",
      "Epoch 154/500\n",
      "450/450 [==============================] - 2s 4ms/step - loss: 0.6061 - acc: 0.6644 - precision: 0.4527 - recall: 0.8221 - val_loss: 0.5260 - val_acc: 0.6327 - val_precision: 0.5882 - val_recall: 0.9524\n",
      "Epoch 155/500\n",
      "450/450 [==============================] - 2s 5ms/step - loss: 0.5948 - acc: 0.6533 - precision: 0.4845 - recall: 0.8659 - val_loss: 0.5746 - val_acc: 0.6122 - val_precision: 0.6429 - val_recall: 0.8571\n",
      "Epoch 156/500\n",
      "450/450 [==============================] - 2s 4ms/step - loss: 0.6123 - acc: 0.6422 - precision: 0.4702 - recall: 0.8436 - val_loss: 0.8530 - val_acc: 0.5714 - val_precision: 1.0000 - val_recall: 0.1429\n",
      "Epoch 157/500\n",
      "450/450 [==============================] - 2s 4ms/step - loss: 0.5870 - acc: 0.6489 - precision: 0.4772 - recall: 0.8599 - val_loss: 0.9900 - val_acc: 0.5714 - val_precision: 0.0000e+00 - val_recall: 0.0000e+00\n",
      "Epoch 158/500\n",
      "450/450 [==============================] - 2s 5ms/step - loss: 0.6040 - acc: 0.6422 - precision: 0.4652 - recall: 0.8642 - val_loss: 0.9408 - val_acc: 0.5714 - val_precision: 0.0000e+00 - val_recall: 0.0000e+00\n",
      "Epoch 159/500\n",
      "450/450 [==============================] - 2s 5ms/step - loss: 0.6208 - acc: 0.6222 - precision: 0.4539 - recall: 0.8241 - val_loss: 1.0905 - val_acc: 0.5714 - val_precision: 0.0000e+00 - val_recall: 0.0000e+00\n",
      "Epoch 160/500\n",
      "450/450 [==============================] - 2s 5ms/step - loss: 0.6148 - acc: 0.6444 - precision: 0.4832 - recall: 0.8201 - val_loss: 1.0523 - val_acc: 0.5714 - val_precision: 0.0000e+00 - val_recall: 0.0000e+00\n",
      "Epoch 161/500\n",
      "450/450 [==============================] - 2s 5ms/step - loss: 0.5935 - acc: 0.6156 - precision: 0.4706 - recall: 0.8681 - val_loss: 0.9792 - val_acc: 0.5714 - val_precision: 0.0000e+00 - val_recall: 0.0000e+00\n",
      "Epoch 162/500\n",
      "450/450 [==============================] - 2s 4ms/step - loss: 0.6002 - acc: 0.6267 - precision: 0.4780 - recall: 0.8456 - val_loss: 0.9034 - val_acc: 0.5714 - val_precision: 0.0000e+00 - val_recall: 0.0000e+00\n",
      "Epoch 163/500\n",
      "450/450 [==============================] - 2s 4ms/step - loss: 0.6140 - acc: 0.6200 - precision: 0.4593 - recall: 0.8175 - val_loss: 0.8571 - val_acc: 0.5714 - val_precision: 1.0000 - val_recall: 0.0952\n",
      "Epoch 164/500\n",
      "450/450 [==============================] - 2s 4ms/step - loss: 0.5906 - acc: 0.6622 - precision: 0.4722 - recall: 0.8465 - val_loss: 0.8750 - val_acc: 0.5714 - val_precision: 1.0000 - val_recall: 0.0952\n",
      "Epoch 165/500\n",
      "450/450 [==============================] - 1s 3ms/step - loss: 0.6131 - acc: 0.5978 - precision: 0.4606 - recall: 0.8111 - val_loss: 0.8525 - val_acc: 0.5714 - val_precision: 1.0000 - val_recall: 0.0952\n",
      "Epoch 166/500\n",
      "450/450 [==============================] - 1s 3ms/step - loss: 0.6084 - acc: 0.6244 - precision: 0.4529 - recall: 0.8018 - val_loss: 0.8347 - val_acc: 0.5714 - val_precision: 0.0000e+00 - val_recall: 0.0000e+00\n",
      "Epoch 167/500\n",
      "450/450 [==============================] - 1s 3ms/step - loss: 0.6039 - acc: 0.6356 - precision: 0.4707 - recall: 0.8421 - val_loss: 0.8318 - val_acc: 0.5714 - val_precision: 1.0000 - val_recall: 0.0952\n",
      "Epoch 168/500\n",
      "450/450 [==============================] - 2s 4ms/step - loss: 0.5995 - acc: 0.6400 - precision: 0.4745 - recall: 0.8403 - val_loss: 0.8541 - val_acc: 0.5714 - val_precision: 1.0000 - val_recall: 0.0952\n",
      "Epoch 169/500\n",
      "450/450 [==============================] - 2s 4ms/step - loss: 0.5779 - acc: 0.6711 - precision: 0.4818 - recall: 0.8382 - val_loss: 0.7512 - val_acc: 0.5714 - val_precision: 1.0000 - val_recall: 0.1905\n",
      "Epoch 170/500\n",
      "450/450 [==============================] - 1s 3ms/step - loss: 0.6176 - acc: 0.6089 - precision: 0.4546 - recall: 0.8021 - val_loss: 0.6223 - val_acc: 0.5714 - val_precision: 0.6250 - val_recall: 0.4762\n",
      "Epoch 171/500\n",
      "450/450 [==============================] - 2s 4ms/step - loss: 0.5886 - acc: 0.6489 - precision: 0.4832 - recall: 0.8760 - val_loss: 0.5844 - val_acc: 0.6327 - val_precision: 0.6538 - val_recall: 0.8095\n",
      "Epoch 172/500\n",
      "450/450 [==============================] - 2s 4ms/step - loss: 0.6010 - acc: 0.6356 - precision: 0.4563 - recall: 0.8150 - val_loss: 0.5627 - val_acc: 0.6531 - val_precision: 0.6786 - val_recall: 0.9048\n",
      "Epoch 173/500\n",
      "450/450 [==============================] - 2s 5ms/step - loss: 0.5713 - acc: 0.6822 - precision: 0.4803 - recall: 0.8733 - val_loss: 0.5114 - val_acc: 0.7755 - val_precision: 0.5676 - val_recall: 1.0000\n",
      "Epoch 174/500\n",
      "450/450 [==============================] - 2s 4ms/step - loss: 0.6022 - acc: 0.6222 - precision: 0.4664 - recall: 0.8309 - val_loss: 0.5167 - val_acc: 0.7143 - val_precision: 0.5676 - val_recall: 1.0000\n",
      "Epoch 175/500\n",
      "450/450 [==============================] - 1s 3ms/step - loss: 0.6009 - acc: 0.6511 - precision: 0.4622 - recall: 0.8326 - val_loss: 0.5121 - val_acc: 0.7551 - val_precision: 0.5676 - val_recall: 1.0000\n",
      "Epoch 176/500\n",
      "450/450 [==============================] - 1s 3ms/step - loss: 0.6008 - acc: 0.6289 - precision: 0.4768 - recall: 0.8289 - val_loss: 0.5133 - val_acc: 0.7755 - val_precision: 0.5833 - val_recall: 1.0000\n",
      "Epoch 177/500\n",
      "450/450 [==============================] - 1s 3ms/step - loss: 0.6068 - acc: 0.6222 - precision: 0.4704 - recall: 0.8432 - val_loss: 0.5158 - val_acc: 0.7143 - val_precision: 0.5833 - val_recall: 1.0000\n",
      "Epoch 178/500\n",
      "450/450 [==============================] - 1s 3ms/step - loss: 0.5861 - acc: 0.6756 - precision: 0.4759 - recall: 0.8306 - val_loss: 0.5111 - val_acc: 0.7755 - val_precision: 0.5833 - val_recall: 1.0000\n",
      "Epoch 179/500\n",
      "450/450 [==============================] - 1s 3ms/step - loss: 0.5994 - acc: 0.6467 - precision: 0.4710 - recall: 0.8165 - val_loss: 0.5127 - val_acc: 0.7551 - val_precision: 0.5833 - val_recall: 1.0000\n",
      "Epoch 180/500\n",
      "450/450 [==============================] - 1s 3ms/step - loss: 0.5972 - acc: 0.6422 - precision: 0.4776 - recall: 0.8036 - val_loss: 0.5122 - val_acc: 0.7551 - val_precision: 0.5833 - val_recall: 1.0000\n",
      "Epoch 181/500\n",
      "450/450 [==============================] - 1s 3ms/step - loss: 0.5897 - acc: 0.6378 - precision: 0.4847 - recall: 0.8639 - val_loss: 0.5187 - val_acc: 0.7143 - val_precision: 0.6000 - val_recall: 1.0000\n",
      "Epoch 182/500\n",
      "450/450 [==============================] - 2s 4ms/step - loss: 0.6234 - acc: 0.6044 - precision: 0.4649 - recall: 0.8436 - val_loss: 0.5292 - val_acc: 0.6327 - val_precision: 0.6000 - val_recall: 1.0000\n",
      "Epoch 183/500\n",
      "450/450 [==============================] - 2s 4ms/step - loss: 0.5779 - acc: 0.6622 - precision: 0.4834 - recall: 0.8655 - val_loss: 0.5346 - val_acc: 0.7143 - val_precision: 0.6000 - val_recall: 1.0000\n",
      "Epoch 184/500\n",
      "450/450 [==============================] - 1s 3ms/step - loss: 0.5923 - acc: 0.6267 - precision: 0.4884 - recall: 0.8608 - val_loss: 0.5318 - val_acc: 0.6735 - val_precision: 0.6000 - val_recall: 1.0000\n",
      "Epoch 185/500\n",
      "450/450 [==============================] - 1s 3ms/step - loss: 0.5879 - acc: 0.6511 - precision: 0.4835 - recall: 0.8904 - val_loss: 0.5415 - val_acc: 0.5714 - val_precision: 0.5882 - val_recall: 0.9524\n",
      "Epoch 186/500\n",
      "450/450 [==============================] - 1s 3ms/step - loss: 0.5794 - acc: 0.6689 - precision: 0.4697 - recall: 0.8717 - val_loss: 0.5662 - val_acc: 0.5714 - val_precision: 0.6552 - val_recall: 0.9048\n",
      "Epoch 187/500\n",
      "450/450 [==============================] - 1s 3ms/step - loss: 0.5840 - acc: 0.6333 - precision: 0.4877 - recall: 0.9022 - val_loss: 0.5678 - val_acc: 0.5714 - val_precision: 0.5938 - val_recall: 0.9048\n",
      "Epoch 188/500\n",
      "450/450 [==============================] - 1s 3ms/step - loss: 0.5807 - acc: 0.6356 - precision: 0.4897 - recall: 0.9120 - val_loss: 0.5645 - val_acc: 0.5714 - val_precision: 0.5938 - val_recall: 0.9048\n",
      "Epoch 189/500\n",
      "450/450 [==============================] - 2s 4ms/step - loss: 0.6016 - acc: 0.6356 - precision: 0.4489 - recall: 0.8202 - val_loss: 0.5549 - val_acc: 0.5918 - val_precision: 0.5938 - val_recall: 0.9048\n",
      "Epoch 190/500\n",
      "450/450 [==============================] - 2s 4ms/step - loss: 0.6063 - acc: 0.6667 - precision: 0.4554 - recall: 0.8246 - val_loss: 0.5328 - val_acc: 0.6122 - val_precision: 0.6061 - val_recall: 0.9524\n",
      "Epoch 191/500\n",
      "450/450 [==============================] - 2s 4ms/step - loss: 0.6071 - acc: 0.6111 - precision: 0.4686 - recall: 0.8201 - val_loss: 0.5218 - val_acc: 0.6939 - val_precision: 0.6000 - val_recall: 1.0000\n",
      "Epoch 192/500\n",
      "450/450 [==============================] - 2s 4ms/step - loss: 0.5987 - acc: 0.6222 - precision: 0.4691 - recall: 0.8417 - val_loss: 0.5222 - val_acc: 0.7143 - val_precision: 0.6176 - val_recall: 1.0000\n",
      "Epoch 193/500\n",
      "450/450 [==============================] - 2s 4ms/step - loss: 0.5915 - acc: 0.6244 - precision: 0.4943 - recall: 0.8771 - val_loss: 0.5262 - val_acc: 0.6735 - val_precision: 0.6176 - val_recall: 1.0000\n",
      "Epoch 194/500\n",
      "450/450 [==============================] - 2s 4ms/step - loss: 0.5808 - acc: 0.6489 - precision: 0.4962 - recall: 0.8661 - val_loss: 0.5217 - val_acc: 0.7551 - val_precision: 0.6176 - val_recall: 1.0000\n",
      "Epoch 195/500\n",
      "450/450 [==============================] - 2s 3ms/step - loss: 0.6191 - acc: 0.6156 - precision: 0.4483 - recall: 0.7940 - val_loss: 0.5185 - val_acc: 0.7347 - val_precision: 0.6000 - val_recall: 1.0000\n",
      "Epoch 196/500\n",
      "450/450 [==============================] - 1s 3ms/step - loss: 0.5883 - acc: 0.6444 - precision: 0.4670 - recall: 0.8617 - val_loss: 0.5165 - val_acc: 0.7347 - val_precision: 0.6000 - val_recall: 1.0000\n",
      "Epoch 197/500\n",
      "450/450 [==============================] - 1s 3ms/step - loss: 0.5661 - acc: 0.6533 - precision: 0.4867 - recall: 0.8959 - val_loss: 0.5167 - val_acc: 0.7347 - val_precision: 0.6000 - val_recall: 1.0000\n",
      "Epoch 198/500\n",
      "450/450 [==============================] - 1s 3ms/step - loss: 0.5743 - acc: 0.6756 - precision: 0.4881 - recall: 0.8474 - val_loss: 0.5209 - val_acc: 0.7143 - val_precision: 0.6000 - val_recall: 1.0000\n",
      "Epoch 199/500\n",
      "450/450 [==============================] - 2s 4ms/step - loss: 0.5938 - acc: 0.6533 - precision: 0.4813 - recall: 0.8574 - val_loss: 0.5260 - val_acc: 0.7143 - val_precision: 0.5938 - val_recall: 0.9048\n",
      "Epoch 200/500\n",
      "450/450 [==============================] - 2s 4ms/step - loss: 0.5805 - acc: 0.6689 - precision: 0.4942 - recall: 0.8610 - val_loss: 0.5229 - val_acc: 0.6531 - val_precision: 0.5938 - val_recall: 0.9048\n",
      "Epoch 201/500\n",
      "450/450 [==============================] - 2s 4ms/step - loss: 0.5993 - acc: 0.6244 - precision: 0.4754 - recall: 0.8729 - val_loss: 0.5180 - val_acc: 0.6939 - val_precision: 0.5938 - val_recall: 0.9048\n",
      "Epoch 202/500\n",
      "450/450 [==============================] - 2s 4ms/step - loss: 0.5840 - acc: 0.6556 - precision: 0.4724 - recall: 0.8611 - val_loss: 0.5218 - val_acc: 0.7143 - val_precision: 0.5938 - val_recall: 0.9048\n",
      "Epoch 203/500\n",
      "450/450 [==============================] - 2s 4ms/step - loss: 0.5815 - acc: 0.6489 - precision: 0.4846 - recall: 0.8627 - val_loss: 0.5354 - val_acc: 0.5918 - val_precision: 0.5938 - val_recall: 0.9048\n",
      "Epoch 204/500\n",
      "450/450 [==============================] - 1s 3ms/step - loss: 0.5896 - acc: 0.6311 - precision: 0.4791 - recall: 0.8513 - val_loss: 0.5427 - val_acc: 0.5918 - val_precision: 0.5938 - val_recall: 0.9048\n",
      "Epoch 205/500\n",
      "450/450 [==============================] - 2s 4ms/step - loss: 0.5895 - acc: 0.6489 - precision: 0.4681 - recall: 0.8496 - val_loss: 0.5365 - val_acc: 0.5918 - val_precision: 0.5938 - val_recall: 0.9048\n",
      "Epoch 206/500\n",
      "450/450 [==============================] - 1s 3ms/step - loss: 0.5774 - acc: 0.6600 - precision: 0.4853 - recall: 0.8522 - val_loss: 0.5295 - val_acc: 0.6735 - val_precision: 0.6061 - val_recall: 0.9524\n",
      "Epoch 207/500\n",
      "450/450 [==============================] - 2s 4ms/step - loss: 0.5926 - acc: 0.6378 - precision: 0.4863 - recall: 0.8474 - val_loss: 0.5191 - val_acc: 0.7143 - val_precision: 0.6176 - val_recall: 1.0000\n",
      "Epoch 208/500\n",
      "450/450 [==============================] - 2s 3ms/step - loss: 0.5920 - acc: 0.6289 - precision: 0.4659 - recall: 0.8362 - val_loss: 0.5146 - val_acc: 0.7347 - val_precision: 0.6176 - val_recall: 1.0000\n",
      "Epoch 209/500\n",
      "450/450 [==============================] - 2s 4ms/step - loss: 0.5931 - acc: 0.6311 - precision: 0.4912 - recall: 0.8710 - val_loss: 0.5128 - val_acc: 0.7347 - val_precision: 0.6176 - val_recall: 1.0000\n",
      "Epoch 210/500\n",
      "450/450 [==============================] - 2s 4ms/step - loss: 0.5911 - acc: 0.6556 - precision: 0.4760 - recall: 0.8510 - val_loss: 0.5082 - val_acc: 0.7551 - val_precision: 0.6000 - val_recall: 1.0000\n",
      "Epoch 211/500\n",
      "450/450 [==============================] - 2s 4ms/step - loss: 0.6035 - acc: 0.6267 - precision: 0.4770 - recall: 0.8706 - val_loss: 0.5054 - val_acc: 0.7755 - val_precision: 0.6000 - val_recall: 1.0000\n",
      "Epoch 212/500\n",
      "450/450 [==============================] - 1s 3ms/step - loss: 0.6043 - acc: 0.6267 - precision: 0.4848 - recall: 0.8482 - val_loss: 0.5062 - val_acc: 0.7551 - val_precision: 0.5833 - val_recall: 1.0000\n",
      "Epoch 213/500\n",
      "450/450 [==============================] - 2s 4ms/step - loss: 0.5839 - acc: 0.6511 - precision: 0.4866 - recall: 0.8783 - val_loss: 0.5084 - val_acc: 0.8163 - val_precision: 0.5676 - val_recall: 1.0000\n",
      "Epoch 214/500\n",
      "450/450 [==============================] - 2s 3ms/step - loss: 0.5888 - acc: 0.6711 - precision: 0.4670 - recall: 0.8732 - val_loss: 0.5100 - val_acc: 0.7959 - val_precision: 0.5676 - val_recall: 1.0000\n",
      "Epoch 215/500\n",
      "450/450 [==============================] - 1s 3ms/step - loss: 0.5805 - acc: 0.6511 - precision: 0.4911 - recall: 0.9058 - val_loss: 0.5110 - val_acc: 0.7551 - val_precision: 0.5676 - val_recall: 1.0000\n",
      "Epoch 216/500\n",
      "450/450 [==============================] - 1s 3ms/step - loss: 0.5923 - acc: 0.6444 - precision: 0.4551 - recall: 0.8550 - val_loss: 0.5141 - val_acc: 0.7143 - val_precision: 0.5676 - val_recall: 1.0000\n",
      "Epoch 217/500\n",
      "450/450 [==============================] - 2s 3ms/step - loss: 0.5723 - acc: 0.6644 - precision: 0.4865 - recall: 0.8991 - val_loss: 0.5162 - val_acc: 0.7347 - val_precision: 0.5676 - val_recall: 1.0000\n",
      "Epoch 218/500\n",
      "450/450 [==============================] - 1s 3ms/step - loss: 0.5906 - acc: 0.6378 - precision: 0.4778 - recall: 0.8785 - val_loss: 0.5265 - val_acc: 0.7347 - val_precision: 0.5676 - val_recall: 1.0000\n",
      "Epoch 219/500\n",
      "450/450 [==============================] - 2s 4ms/step - loss: 0.5733 - acc: 0.6578 - precision: 0.4639 - recall: 0.8540 - val_loss: 0.5244 - val_acc: 0.7551 - val_precision: 0.5676 - val_recall: 1.0000\n",
      "Epoch 220/500\n",
      "450/450 [==============================] - 2s 4ms/step - loss: 0.5895 - acc: 0.6178 - precision: 0.4767 - recall: 0.9022 - val_loss: 0.5237 - val_acc: 0.7755 - val_precision: 0.5676 - val_recall: 1.0000\n",
      "Epoch 221/500\n",
      "450/450 [==============================] - 1s 3ms/step - loss: 0.5807 - acc: 0.6667 - precision: 0.4851 - recall: 0.8854 - val_loss: 0.5235 - val_acc: 0.7347 - val_precision: 0.5676 - val_recall: 1.0000\n",
      "Epoch 222/500\n",
      "450/450 [==============================] - 1s 3ms/step - loss: 0.5841 - acc: 0.6533 - precision: 0.4670 - recall: 0.8559 - val_loss: 0.5390 - val_acc: 0.6327 - val_precision: 0.6000 - val_recall: 1.0000\n",
      "Epoch 223/500\n",
      "450/450 [==============================] - 2s 4ms/step - loss: 0.5843 - acc: 0.6333 - precision: 0.4843 - recall: 0.8441 - val_loss: 0.5474 - val_acc: 0.6122 - val_precision: 0.6250 - val_recall: 0.9524\n",
      "Epoch 224/500\n",
      "450/450 [==============================] - 2s 4ms/step - loss: 0.5795 - acc: 0.6644 - precision: 0.4892 - recall: 0.8500 - val_loss: 0.5313 - val_acc: 0.6939 - val_precision: 0.5676 - val_recall: 1.0000\n",
      "Epoch 225/500\n",
      "450/450 [==============================] - 2s 5ms/step - loss: 0.5778 - acc: 0.6822 - precision: 0.4735 - recall: 0.8916 - val_loss: 0.5291 - val_acc: 0.7347 - val_precision: 0.5676 - val_recall: 1.0000\n",
      "Epoch 226/500\n",
      "450/450 [==============================] - 2s 4ms/step - loss: 0.5679 - acc: 0.6867 - precision: 0.4816 - recall: 0.8888 - val_loss: 0.5419 - val_acc: 0.6122 - val_precision: 0.6176 - val_recall: 1.0000\n"
     ]
    },
    {
     "name": "stdout",
     "output_type": "stream",
     "text": [
      "Epoch 227/500\n",
      "450/450 [==============================] - 2s 4ms/step - loss: 0.5861 - acc: 0.6333 - precision: 0.4775 - recall: 0.8381 - val_loss: 0.5523 - val_acc: 0.5714 - val_precision: 0.6061 - val_recall: 0.9524\n",
      "Epoch 228/500\n",
      "450/450 [==============================] - 2s 4ms/step - loss: 0.5848 - acc: 0.6622 - precision: 0.4752 - recall: 0.8537 - val_loss: 0.5485 - val_acc: 0.5714 - val_precision: 0.6061 - val_recall: 0.9524\n",
      "Epoch 229/500\n",
      "450/450 [==============================] - 2s 4ms/step - loss: 0.6010 - acc: 0.6644 - precision: 0.4724 - recall: 0.8702 - val_loss: 0.5392 - val_acc: 0.6735 - val_precision: 0.5833 - val_recall: 1.0000\n",
      "Epoch 230/500\n",
      "450/450 [==============================] - 2s 4ms/step - loss: 0.5860 - acc: 0.6600 - precision: 0.4856 - recall: 0.9045 - val_loss: 0.5371 - val_acc: 0.7143 - val_precision: 0.5833 - val_recall: 1.0000\n",
      "Epoch 231/500\n",
      "450/450 [==============================] - 2s 3ms/step - loss: 0.5873 - acc: 0.6578 - precision: 0.4745 - recall: 0.8904 - val_loss: 0.5376 - val_acc: 0.7143 - val_precision: 0.5833 - val_recall: 1.0000\n",
      "Epoch 232/500\n",
      "450/450 [==============================] - 1s 3ms/step - loss: 0.5939 - acc: 0.6156 - precision: 0.4729 - recall: 0.8933 - val_loss: 0.5456 - val_acc: 0.7347 - val_precision: 0.5676 - val_recall: 1.0000\n",
      "Epoch 233/500\n",
      "450/450 [==============================] - 1s 3ms/step - loss: 0.5930 - acc: 0.6400 - precision: 0.4897 - recall: 0.8699 - val_loss: 0.5454 - val_acc: 0.7347 - val_precision: 0.5676 - val_recall: 1.0000\n",
      "Epoch 234/500\n",
      "450/450 [==============================] - 1s 3ms/step - loss: 0.5849 - acc: 0.6644 - precision: 0.4732 - recall: 0.8697 - val_loss: 0.5430 - val_acc: 0.7347 - val_precision: 0.5676 - val_recall: 1.0000\n",
      "Epoch 235/500\n",
      "450/450 [==============================] - 1s 3ms/step - loss: 0.6002 - acc: 0.6200 - precision: 0.4753 - recall: 0.9016 - val_loss: 0.5450 - val_acc: 0.7143 - val_precision: 0.5833 - val_recall: 1.0000\n",
      "Epoch 236/500\n",
      "450/450 [==============================] - 1s 3ms/step - loss: 0.5772 - acc: 0.6556 - precision: 0.5054 - recall: 0.8951 - val_loss: 0.5548 - val_acc: 0.5918 - val_precision: 0.5833 - val_recall: 1.0000\n",
      "Epoch 237/500\n",
      "450/450 [==============================] - 2s 3ms/step - loss: 0.5947 - acc: 0.6311 - precision: 0.4717 - recall: 0.8783 - val_loss: 0.5571 - val_acc: 0.5918 - val_precision: 0.5833 - val_recall: 1.0000\n",
      "Epoch 238/500\n",
      "450/450 [==============================] - 2s 4ms/step - loss: 0.5895 - acc: 0.6489 - precision: 0.4853 - recall: 0.8799 - val_loss: 0.5552 - val_acc: 0.5918 - val_precision: 0.5833 - val_recall: 1.0000\n",
      "Epoch 239/500\n",
      "450/450 [==============================] - 2s 3ms/step - loss: 0.5788 - acc: 0.6689 - precision: 0.4923 - recall: 0.8660 - val_loss: 0.5464 - val_acc: 0.6327 - val_precision: 0.5833 - val_recall: 1.0000\n",
      "Epoch 240/500\n",
      "450/450 [==============================] - 2s 4ms/step - loss: 0.5735 - acc: 0.6644 - precision: 0.4827 - recall: 0.8807 - val_loss: 0.5430 - val_acc: 0.7143 - val_precision: 0.5833 - val_recall: 1.0000\n",
      "Epoch 241/500\n",
      "450/450 [==============================] - 2s 3ms/step - loss: 0.5844 - acc: 0.6511 - precision: 0.4714 - recall: 0.8582 - val_loss: 0.5392 - val_acc: 0.7143 - val_precision: 0.5833 - val_recall: 1.0000\n",
      "Epoch 242/500\n",
      "450/450 [==============================] - 1s 3ms/step - loss: 0.5881 - acc: 0.6422 - precision: 0.4801 - recall: 0.8917 - val_loss: 0.5410 - val_acc: 0.7347 - val_precision: 0.5833 - val_recall: 1.0000\n",
      "Epoch 243/500\n",
      "450/450 [==============================] - 2s 4ms/step - loss: 0.5966 - acc: 0.6444 - precision: 0.4742 - recall: 0.8612 - val_loss: 0.5443 - val_acc: 0.7347 - val_precision: 0.5833 - val_recall: 1.0000\n",
      "Epoch 244/500\n",
      "450/450 [==============================] - 1s 3ms/step - loss: 0.5979 - acc: 0.6111 - precision: 0.4905 - recall: 0.8861 - val_loss: 0.5472 - val_acc: 0.6939 - val_precision: 0.5833 - val_recall: 1.0000\n",
      "Epoch 245/500\n",
      "450/450 [==============================] - 2s 4ms/step - loss: 0.5833 - acc: 0.6489 - precision: 0.4614 - recall: 0.8501 - val_loss: 0.5437 - val_acc: 0.7143 - val_precision: 0.5833 - val_recall: 1.0000\n",
      "Epoch 246/500\n",
      "450/450 [==============================] - 2s 5ms/step - loss: 0.5997 - acc: 0.6156 - precision: 0.4834 - recall: 0.8836 - val_loss: 0.5414 - val_acc: 0.7143 - val_precision: 0.5833 - val_recall: 1.0000\n",
      "Epoch 247/500\n",
      "450/450 [==============================] - 2s 4ms/step - loss: 0.5873 - acc: 0.6356 - precision: 0.4833 - recall: 0.8751 - val_loss: 0.5399 - val_acc: 0.7143 - val_precision: 0.5833 - val_recall: 1.0000\n",
      "Epoch 248/500\n",
      "450/450 [==============================] - 2s 4ms/step - loss: 0.5879 - acc: 0.6356 - precision: 0.4710 - recall: 0.8700 - val_loss: 0.5363 - val_acc: 0.6939 - val_precision: 0.5833 - val_recall: 1.0000\n",
      "Epoch 249/500\n",
      "450/450 [==============================] - 2s 5ms/step - loss: 0.5824 - acc: 0.6400 - precision: 0.4881 - recall: 0.8855 - val_loss: 0.5360 - val_acc: 0.6735 - val_precision: 0.5833 - val_recall: 1.0000\n",
      "Epoch 250/500\n",
      "450/450 [==============================] - 2s 4ms/step - loss: 0.5790 - acc: 0.6578 - precision: 0.4836 - recall: 0.8887 - val_loss: 0.5341 - val_acc: 0.6939 - val_precision: 0.5833 - val_recall: 1.0000\n",
      "Epoch 251/500\n",
      "450/450 [==============================] - 2s 4ms/step - loss: 0.5857 - acc: 0.6400 - precision: 0.4811 - recall: 0.8956 - val_loss: 0.5302 - val_acc: 0.7551 - val_precision: 0.5833 - val_recall: 1.0000\n",
      "Epoch 252/500\n",
      "450/450 [==============================] - 2s 4ms/step - loss: 0.5718 - acc: 0.6733 - precision: 0.4891 - recall: 0.9034 - val_loss: 0.5285 - val_acc: 0.7755 - val_precision: 0.5833 - val_recall: 1.0000\n",
      "Epoch 253/500\n",
      "450/450 [==============================] - 2s 4ms/step - loss: 0.5835 - acc: 0.6467 - precision: 0.4616 - recall: 0.8540 - val_loss: 0.5270 - val_acc: 0.7959 - val_precision: 0.5833 - val_recall: 1.0000\n",
      "Epoch 254/500\n",
      "450/450 [==============================] - 2s 4ms/step - loss: 0.5740 - acc: 0.6556 - precision: 0.4953 - recall: 0.8991 - val_loss: 0.5255 - val_acc: 0.7755 - val_precision: 0.5833 - val_recall: 1.0000\n",
      "Epoch 255/500\n",
      "450/450 [==============================] - 1s 3ms/step - loss: 0.5762 - acc: 0.6578 - precision: 0.4741 - recall: 0.8702 - val_loss: 0.5208 - val_acc: 0.7959 - val_precision: 0.5833 - val_recall: 1.0000\n",
      "Epoch 256/500\n",
      "450/450 [==============================] - 1s 3ms/step - loss: 0.5753 - acc: 0.6756 - precision: 0.4698 - recall: 0.8901 - val_loss: 0.5222 - val_acc: 0.7143 - val_precision: 0.5676 - val_recall: 1.0000\n",
      "Epoch 257/500\n",
      "450/450 [==============================] - 1s 3ms/step - loss: 0.5782 - acc: 0.6578 - precision: 0.4784 - recall: 0.9001 - val_loss: 0.5252 - val_acc: 0.6735 - val_precision: 0.5676 - val_recall: 1.0000\n",
      "Epoch 258/500\n",
      "450/450 [==============================] - 1s 3ms/step - loss: 0.5799 - acc: 0.6667 - precision: 0.4700 - recall: 0.8891 - val_loss: 0.5246 - val_acc: 0.7143 - val_precision: 0.5676 - val_recall: 1.0000\n",
      "Epoch 259/500\n",
      "450/450 [==============================] - 1s 3ms/step - loss: 0.5816 - acc: 0.6689 - precision: 0.4712 - recall: 0.8710 - val_loss: 0.5277 - val_acc: 0.7959 - val_precision: 0.5833 - val_recall: 1.0000\n",
      "Epoch 260/500\n",
      "450/450 [==============================] - 1s 3ms/step - loss: 0.5684 - acc: 0.6511 - precision: 0.4787 - recall: 0.9163 - val_loss: 0.5545 - val_acc: 0.5714 - val_precision: 0.6061 - val_recall: 0.9524\n",
      "Epoch 261/500\n",
      "450/450 [==============================] - 1s 3ms/step - loss: 0.5718 - acc: 0.6756 - precision: 0.4746 - recall: 0.8725 - val_loss: 0.5727 - val_acc: 0.5714 - val_precision: 0.6333 - val_recall: 0.9048\n",
      "Epoch 262/500\n",
      "450/450 [==============================] - 2s 4ms/step - loss: 0.5701 - acc: 0.6689 - precision: 0.4767 - recall: 0.9110 - val_loss: 0.5885 - val_acc: 0.5714 - val_precision: 0.6333 - val_recall: 0.9048\n",
      "Epoch 263/500\n",
      "450/450 [==============================] - 1s 3ms/step - loss: 0.5811 - acc: 0.6756 - precision: 0.4638 - recall: 0.9037 - val_loss: 0.5875 - val_acc: 0.5714 - val_precision: 0.6552 - val_recall: 0.9048\n",
      "Epoch 264/500\n",
      "450/450 [==============================] - 2s 3ms/step - loss: 0.5714 - acc: 0.6622 - precision: 0.4905 - recall: 0.9116 - val_loss: 0.5919 - val_acc: 0.5714 - val_precision: 0.6667 - val_recall: 0.8571\n"
     ]
    },
    {
     "name": "stdout",
     "output_type": "stream",
     "text": [
      "Epoch 265/500\n",
      "450/450 [==============================] - 2s 4ms/step - loss: 0.5798 - acc: 0.6244 - precision: 0.4804 - recall: 0.9354 - val_loss: 0.5893 - val_acc: 0.5714 - val_precision: 0.6667 - val_recall: 0.8571\n",
      "Epoch 266/500\n",
      "450/450 [==============================] - 2s 4ms/step - loss: 0.5706 - acc: 0.6511 - precision: 0.4929 - recall: 0.9035 - val_loss: 0.5743 - val_acc: 0.5714 - val_precision: 0.6552 - val_recall: 0.9048\n",
      "Epoch 267/500\n",
      "450/450 [==============================] - 2s 4ms/step - loss: 0.5841 - acc: 0.6578 - precision: 0.4625 - recall: 0.8874 - val_loss: 0.5602 - val_acc: 0.5714 - val_precision: 0.5833 - val_recall: 1.0000\n",
      "Epoch 268/500\n",
      "450/450 [==============================] - 2s 4ms/step - loss: 0.5811 - acc: 0.6511 - precision: 0.4620 - recall: 0.8917 - val_loss: 0.5529 - val_acc: 0.5510 - val_precision: 0.5833 - val_recall: 1.0000\n",
      "Epoch 269/500\n",
      "450/450 [==============================] - 2s 4ms/step - loss: 0.5798 - acc: 0.6600 - precision: 0.4646 - recall: 0.8798 - val_loss: 0.5404 - val_acc: 0.5918 - val_precision: 0.5833 - val_recall: 1.0000\n",
      "Epoch 270/500\n",
      "450/450 [==============================] - 1s 3ms/step - loss: 0.5715 - acc: 0.6644 - precision: 0.4783 - recall: 0.9353 - val_loss: 0.5365 - val_acc: 0.6122 - val_precision: 0.5833 - val_recall: 1.0000\n",
      "Epoch 271/500\n",
      "450/450 [==============================] - 1s 3ms/step - loss: 0.5829 - acc: 0.6644 - precision: 0.4740 - recall: 0.8664 - val_loss: 0.5319 - val_acc: 0.6327 - val_precision: 0.6000 - val_recall: 1.0000\n",
      "Epoch 272/500\n",
      "450/450 [==============================] - 1s 3ms/step - loss: 0.5981 - acc: 0.6244 - precision: 0.4606 - recall: 0.8703 - val_loss: 0.5277 - val_acc: 0.6327 - val_precision: 0.6000 - val_recall: 1.0000\n",
      "Epoch 273/500\n",
      "450/450 [==============================] - 2s 4ms/step - loss: 0.5706 - acc: 0.6733 - precision: 0.4659 - recall: 0.9132 - val_loss: 0.5230 - val_acc: 0.6735 - val_precision: 0.5833 - val_recall: 1.0000\n",
      "Epoch 274/500\n",
      "450/450 [==============================] - 2s 4ms/step - loss: 0.5809 - acc: 0.6644 - precision: 0.4637 - recall: 0.8794 - val_loss: 0.5193 - val_acc: 0.7347 - val_precision: 0.5833 - val_recall: 1.0000\n",
      "Epoch 275/500\n",
      "450/450 [==============================] - 2s 4ms/step - loss: 0.5759 - acc: 0.6467 - precision: 0.4789 - recall: 0.9087 - val_loss: 0.5269 - val_acc: 0.6327 - val_precision: 0.6000 - val_recall: 1.0000\n",
      "Epoch 276/500\n",
      "450/450 [==============================] - 2s 4ms/step - loss: 0.5917 - acc: 0.6600 - precision: 0.4679 - recall: 0.9090 - val_loss: 0.5475 - val_acc: 0.5918 - val_precision: 0.6333 - val_recall: 0.9048\n",
      "Epoch 277/500\n",
      "450/450 [==============================] - 2s 4ms/step - loss: 0.5876 - acc: 0.6578 - precision: 0.4635 - recall: 0.8903 - val_loss: 0.5416 - val_acc: 0.5918 - val_precision: 0.6129 - val_recall: 0.9048\n",
      "Epoch 278/500\n",
      "450/450 [==============================] - 2s 5ms/step - loss: 0.5823 - acc: 0.6378 - precision: 0.4696 - recall: 0.8887 - val_loss: 0.5397 - val_acc: 0.5918 - val_precision: 0.6061 - val_recall: 0.9524\n",
      "Epoch 279/500\n",
      "450/450 [==============================] - 1s 3ms/step - loss: 0.5832 - acc: 0.6667 - precision: 0.4680 - recall: 0.9245 - val_loss: 0.5405 - val_acc: 0.5714 - val_precision: 0.6129 - val_recall: 0.9048\n",
      "Epoch 280/500\n",
      "450/450 [==============================] - 1s 3ms/step - loss: 0.5770 - acc: 0.6711 - precision: 0.4738 - recall: 0.9246 - val_loss: 0.5394 - val_acc: 0.5714 - val_precision: 0.6333 - val_recall: 0.9048\n",
      "Epoch 281/500\n",
      "450/450 [==============================] - 1s 3ms/step - loss: 0.5751 - acc: 0.6444 - precision: 0.4766 - recall: 0.8911 - val_loss: 0.5378 - val_acc: 0.5714 - val_precision: 0.6333 - val_recall: 0.9048\n",
      "Epoch 282/500\n",
      "450/450 [==============================] - 2s 4ms/step - loss: 0.5859 - acc: 0.6489 - precision: 0.4591 - recall: 0.9091 - val_loss: 0.5357 - val_acc: 0.5714 - val_precision: 0.6333 - val_recall: 0.9048\n",
      "Epoch 283/500\n",
      "450/450 [==============================] - 2s 3ms/step - loss: 0.5835 - acc: 0.6667 - precision: 0.4734 - recall: 0.9008 - val_loss: 0.5423 - val_acc: 0.5714 - val_precision: 0.6333 - val_recall: 0.9048\n",
      "Epoch 284/500\n",
      "450/450 [==============================] - 2s 4ms/step - loss: 0.5699 - acc: 0.6422 - precision: 0.4704 - recall: 0.8870 - val_loss: 0.5418 - val_acc: 0.5714 - val_precision: 0.6129 - val_recall: 0.9048\n",
      "Epoch 285/500\n",
      "450/450 [==============================] - 2s 4ms/step - loss: 0.5684 - acc: 0.6733 - precision: 0.4934 - recall: 0.8911 - val_loss: 0.5471 - val_acc: 0.5918 - val_precision: 0.6000 - val_recall: 1.0000\n",
      "Epoch 286/500\n",
      "450/450 [==============================] - 2s 4ms/step - loss: 0.5859 - acc: 0.6556 - precision: 0.4636 - recall: 0.8848 - val_loss: 0.5508 - val_acc: 0.5918 - val_precision: 0.5833 - val_recall: 1.0000\n",
      "Epoch 287/500\n",
      "450/450 [==============================] - 2s 3ms/step - loss: 0.5723 - acc: 0.6578 - precision: 0.4903 - recall: 0.9071 - val_loss: 0.5559 - val_acc: 0.5918 - val_precision: 0.5882 - val_recall: 0.9524\n",
      "Epoch 288/500\n",
      "450/450 [==============================] - 1s 3ms/step - loss: 0.5956 - acc: 0.6289 - precision: 0.4814 - recall: 0.9054 - val_loss: 0.5537 - val_acc: 0.5918 - val_precision: 0.5714 - val_recall: 0.9524\n",
      "Epoch 289/500\n",
      "450/450 [==============================] - 1s 3ms/step - loss: 0.5761 - acc: 0.6644 - precision: 0.4859 - recall: 0.8979 - val_loss: 0.5591 - val_acc: 0.5714 - val_precision: 0.5714 - val_recall: 0.9524\n",
      "Epoch 290/500\n",
      "450/450 [==============================] - 2s 4ms/step - loss: 0.5860 - acc: 0.6556 - precision: 0.4802 - recall: 0.8837 - val_loss: 0.5632 - val_acc: 0.5714 - val_precision: 0.6061 - val_recall: 0.9524\n",
      "Epoch 291/500\n",
      "450/450 [==============================] - 2s 5ms/step - loss: 0.5568 - acc: 0.6778 - precision: 0.4934 - recall: 0.9077 - val_loss: 0.5555 - val_acc: 0.5714 - val_precision: 0.6176 - val_recall: 1.0000\n",
      "Epoch 292/500\n",
      "450/450 [==============================] - 2s 4ms/step - loss: 0.5779 - acc: 0.6378 - precision: 0.4890 - recall: 0.9160 - val_loss: 0.5458 - val_acc: 0.5714 - val_precision: 0.6176 - val_recall: 1.0000\n",
      "Epoch 293/500\n",
      "450/450 [==============================] - 2s 4ms/step - loss: 0.5887 - acc: 0.6422 - precision: 0.4862 - recall: 0.8859 - val_loss: 0.5445 - val_acc: 0.5714 - val_precision: 0.6176 - val_recall: 1.0000\n",
      "Epoch 294/500\n",
      "450/450 [==============================] - 2s 4ms/step - loss: 0.5725 - acc: 0.6600 - precision: 0.4764 - recall: 0.9177 - val_loss: 0.5429 - val_acc: 0.5918 - val_precision: 0.6000 - val_recall: 1.0000\n",
      "Epoch 295/500\n",
      "450/450 [==============================] - 2s 4ms/step - loss: 0.5824 - acc: 0.6267 - precision: 0.4752 - recall: 0.8837 - val_loss: 0.5361 - val_acc: 0.5918 - val_precision: 0.6000 - val_recall: 1.0000\n",
      "Epoch 296/500\n",
      "450/450 [==============================] - 2s 5ms/step - loss: 0.5775 - acc: 0.6867 - precision: 0.4677 - recall: 0.9000 - val_loss: 0.5324 - val_acc: 0.6122 - val_precision: 0.6000 - val_recall: 1.0000\n",
      "Epoch 297/500\n",
      "450/450 [==============================] - 2s 4ms/step - loss: 0.5799 - acc: 0.6400 - precision: 0.4794 - recall: 0.9030 - val_loss: 0.5392 - val_acc: 0.6122 - val_precision: 0.6000 - val_recall: 1.0000\n",
      "Epoch 298/500\n",
      "450/450 [==============================] - 2s 3ms/step - loss: 0.5929 - acc: 0.6244 - precision: 0.4657 - recall: 0.9180 - val_loss: 0.5435 - val_acc: 0.6122 - val_precision: 0.6000 - val_recall: 1.0000\n",
      "Epoch 299/500\n",
      "450/450 [==============================] - 1s 3ms/step - loss: 0.5905 - acc: 0.6222 - precision: 0.4613 - recall: 0.9003 - val_loss: 0.5411 - val_acc: 0.6122 - val_precision: 0.6000 - val_recall: 1.0000\n",
      "Epoch 300/500\n",
      "450/450 [==============================] - 2s 4ms/step - loss: 0.5785 - acc: 0.6444 - precision: 0.4788 - recall: 0.9247 - val_loss: 0.5393 - val_acc: 0.6122 - val_precision: 0.5833 - val_recall: 1.0000\n",
      "Epoch 301/500\n",
      "450/450 [==============================] - 2s 4ms/step - loss: 0.5631 - acc: 0.6733 - precision: 0.5049 - recall: 0.9198 - val_loss: 0.5343 - val_acc: 0.6122 - val_precision: 0.5833 - val_recall: 1.0000\n",
      "Epoch 302/500\n",
      "450/450 [==============================] - 2s 3ms/step - loss: 0.5660 - acc: 0.6689 - precision: 0.4849 - recall: 0.9259 - val_loss: 0.5308 - val_acc: 0.6939 - val_precision: 0.5833 - val_recall: 1.0000\n"
     ]
    },
    {
     "name": "stdout",
     "output_type": "stream",
     "text": [
      "Epoch 303/500\n",
      "450/450 [==============================] - 1s 3ms/step - loss: 0.5661 - acc: 0.6689 - precision: 0.4835 - recall: 0.9339 - val_loss: 0.5284 - val_acc: 0.6531 - val_precision: 0.5833 - val_recall: 1.0000\n",
      "Epoch 304/500\n",
      "450/450 [==============================] - 2s 4ms/step - loss: 0.5836 - acc: 0.6489 - precision: 0.4775 - recall: 0.9160 - val_loss: 0.5315 - val_acc: 0.7551 - val_precision: 0.5833 - val_recall: 1.0000\n",
      "Epoch 305/500\n",
      "450/450 [==============================] - 2s 4ms/step - loss: 0.6007 - acc: 0.6222 - precision: 0.4548 - recall: 0.8744 - val_loss: 0.5296 - val_acc: 0.7551 - val_precision: 0.5833 - val_recall: 1.0000\n",
      "Epoch 306/500\n",
      "450/450 [==============================] - 2s 3ms/step - loss: 0.5825 - acc: 0.6222 - precision: 0.4696 - recall: 0.8964 - val_loss: 0.5232 - val_acc: 0.7755 - val_precision: 0.5833 - val_recall: 1.0000\n",
      "Epoch 307/500\n",
      "450/450 [==============================] - 1s 3ms/step - loss: 0.5755 - acc: 0.6511 - precision: 0.4843 - recall: 0.9122 - val_loss: 0.5237 - val_acc: 0.7551 - val_precision: 0.5833 - val_recall: 1.0000\n",
      "Epoch 308/500\n",
      "450/450 [==============================] - 2s 4ms/step - loss: 0.5883 - acc: 0.6400 - precision: 0.4717 - recall: 0.8763 - val_loss: 0.5238 - val_acc: 0.7551 - val_precision: 0.5833 - val_recall: 1.0000\n",
      "Epoch 309/500\n",
      "450/450 [==============================] - 1s 3ms/step - loss: 0.6015 - acc: 0.6111 - precision: 0.4760 - recall: 0.8753 - val_loss: 0.5243 - val_acc: 0.7755 - val_precision: 0.5833 - val_recall: 1.0000\n",
      "Epoch 310/500\n",
      "450/450 [==============================] - 2s 4ms/step - loss: 0.6036 - acc: 0.6200 - precision: 0.4479 - recall: 0.8787 - val_loss: 0.5243 - val_acc: 0.8163 - val_precision: 0.5833 - val_recall: 1.0000\n",
      "Epoch 311/500\n",
      "450/450 [==============================] - 2s 4ms/step - loss: 0.5646 - acc: 0.6733 - precision: 0.4990 - recall: 0.9087 - val_loss: 0.5270 - val_acc: 0.7551 - val_precision: 0.5833 - val_recall: 1.0000\n",
      "Epoch 312/500\n",
      "450/450 [==============================] - 2s 4ms/step - loss: 0.5988 - acc: 0.6400 - precision: 0.4693 - recall: 0.8643 - val_loss: 0.5301 - val_acc: 0.7347 - val_precision: 0.5833 - val_recall: 1.0000\n",
      "Epoch 313/500\n",
      "450/450 [==============================] - 2s 4ms/step - loss: 0.5661 - acc: 0.6533 - precision: 0.4764 - recall: 0.9050 - val_loss: 0.5302 - val_acc: 0.7551 - val_precision: 0.5833 - val_recall: 1.0000\n",
      "Epoch 314/500\n",
      "450/450 [==============================] - 1s 3ms/step - loss: 0.5726 - acc: 0.6533 - precision: 0.4727 - recall: 0.9309 - val_loss: 0.5278 - val_acc: 0.7551 - val_precision: 0.5833 - val_recall: 1.0000\n",
      "Epoch 315/500\n",
      "450/450 [==============================] - 1s 3ms/step - loss: 0.5833 - acc: 0.6356 - precision: 0.4736 - recall: 0.8983 - val_loss: 0.5252 - val_acc: 0.7551 - val_precision: 0.5833 - val_recall: 1.0000\n",
      "Epoch 316/500\n",
      "450/450 [==============================] - 2s 4ms/step - loss: 0.5866 - acc: 0.6444 - precision: 0.4712 - recall: 0.8790 - val_loss: 0.5276 - val_acc: 0.7347 - val_precision: 0.5833 - val_recall: 1.0000\n",
      "Epoch 317/500\n",
      "450/450 [==============================] - 2s 4ms/step - loss: 0.5735 - acc: 0.6333 - precision: 0.4824 - recall: 0.9410 - val_loss: 0.5242 - val_acc: 0.7755 - val_precision: 0.5833 - val_recall: 1.0000\n",
      "Epoch 318/500\n",
      "450/450 [==============================] - 2s 4ms/step - loss: 0.5678 - acc: 0.6711 - precision: 0.4932 - recall: 0.9299 - val_loss: 0.5259 - val_acc: 0.7347 - val_precision: 0.5833 - val_recall: 1.0000\n",
      "Epoch 319/500\n",
      "450/450 [==============================] - 1s 3ms/step - loss: 0.5550 - acc: 0.6711 - precision: 0.4807 - recall: 0.9349 - val_loss: 0.5395 - val_acc: 0.7551 - val_precision: 0.5385 - val_recall: 1.0000\n",
      "Epoch 320/500\n",
      "450/450 [==============================] - 1s 3ms/step - loss: 0.5759 - acc: 0.6600 - precision: 0.4589 - recall: 0.9117 - val_loss: 0.5367 - val_acc: 0.7551 - val_precision: 0.5385 - val_recall: 1.0000\n",
      "Epoch 321/500\n",
      "450/450 [==============================] - 2s 4ms/step - loss: 0.5913 - acc: 0.6467 - precision: 0.4572 - recall: 0.9053 - val_loss: 0.5352 - val_acc: 0.7755 - val_precision: 0.5385 - val_recall: 1.0000\n",
      "Epoch 322/500\n",
      "450/450 [==============================] - 2s 4ms/step - loss: 0.5923 - acc: 0.6689 - precision: 0.4447 - recall: 0.8703 - val_loss: 0.5376 - val_acc: 0.7755 - val_precision: 0.5526 - val_recall: 1.0000\n",
      "Epoch 323/500\n",
      "450/450 [==============================] - 2s 3ms/step - loss: 0.5962 - acc: 0.6422 - precision: 0.4540 - recall: 0.8932 - val_loss: 0.5356 - val_acc: 0.7959 - val_precision: 0.5526 - val_recall: 1.0000\n",
      "Epoch 324/500\n",
      "450/450 [==============================] - 2s 4ms/step - loss: 0.5806 - acc: 0.6400 - precision: 0.4679 - recall: 0.8854 - val_loss: 0.5319 - val_acc: 0.7755 - val_precision: 0.5833 - val_recall: 1.0000\n",
      "Epoch 325/500\n",
      "450/450 [==============================] - 1s 3ms/step - loss: 0.5875 - acc: 0.6267 - precision: 0.4550 - recall: 0.9081 - val_loss: 0.5356 - val_acc: 0.7755 - val_precision: 0.5833 - val_recall: 1.0000\n",
      "Epoch 326/500\n",
      "450/450 [==============================] - 1s 3ms/step - loss: 0.5849 - acc: 0.6444 - precision: 0.4736 - recall: 0.9103 - val_loss: 0.5204 - val_acc: 0.7143 - val_precision: 0.5833 - val_recall: 1.0000\n",
      "Epoch 327/500\n",
      "450/450 [==============================] - 2s 4ms/step - loss: 0.5753 - acc: 0.6400 - precision: 0.4681 - recall: 0.9138 - val_loss: 0.5273 - val_acc: 0.7143 - val_precision: 0.5833 - val_recall: 1.0000\n",
      "Epoch 328/500\n",
      "450/450 [==============================] - 1s 3ms/step - loss: 0.5721 - acc: 0.6556 - precision: 0.4747 - recall: 0.9267 - val_loss: 0.5353 - val_acc: 0.5714 - val_precision: 0.5833 - val_recall: 1.0000\n",
      "Epoch 329/500\n",
      "450/450 [==============================] - 1s 3ms/step - loss: 0.5981 - acc: 0.6378 - precision: 0.4580 - recall: 0.8792 - val_loss: 0.5311 - val_acc: 0.6735 - val_precision: 0.5833 - val_recall: 1.0000\n",
      "Epoch 330/500\n",
      "450/450 [==============================] - 2s 3ms/step - loss: 0.5873 - acc: 0.6444 - precision: 0.4696 - recall: 0.9107 - val_loss: 0.5283 - val_acc: 0.7347 - val_precision: 0.5833 - val_recall: 1.0000\n",
      "Epoch 331/500\n",
      "450/450 [==============================] - 2s 3ms/step - loss: 0.5869 - acc: 0.6356 - precision: 0.4634 - recall: 0.9009 - val_loss: 0.5231 - val_acc: 0.6939 - val_precision: 0.6176 - val_recall: 1.0000\n",
      "Epoch 332/500\n",
      "450/450 [==============================] - 2s 3ms/step - loss: 0.5984 - acc: 0.6289 - precision: 0.4628 - recall: 0.8850 - val_loss: 0.5181 - val_acc: 0.6735 - val_precision: 0.6176 - val_recall: 1.0000\n",
      "Epoch 333/500\n",
      "450/450 [==============================] - 2s 4ms/step - loss: 0.5891 - acc: 0.6267 - precision: 0.4772 - recall: 0.9223 - val_loss: 0.5173 - val_acc: 0.6735 - val_precision: 0.6176 - val_recall: 1.0000\n",
      "Epoch 334/500\n",
      "450/450 [==============================] - 2s 4ms/step - loss: 0.5895 - acc: 0.6311 - precision: 0.4554 - recall: 0.8945 - val_loss: 0.5148 - val_acc: 0.6531 - val_precision: 0.6176 - val_recall: 1.0000\n",
      "Epoch 335/500\n",
      "450/450 [==============================] - 2s 3ms/step - loss: 0.6003 - acc: 0.6156 - precision: 0.4609 - recall: 0.8781 - val_loss: 0.5127 - val_acc: 0.6531 - val_precision: 0.6176 - val_recall: 1.0000\n",
      "Epoch 336/500\n",
      "450/450 [==============================] - 1s 3ms/step - loss: 0.5783 - acc: 0.6311 - precision: 0.4842 - recall: 0.9365 - val_loss: 0.5117 - val_acc: 0.6939 - val_precision: 0.6176 - val_recall: 1.0000\n",
      "Epoch 337/500\n",
      "450/450 [==============================] - 1s 3ms/step - loss: 0.5881 - acc: 0.6311 - precision: 0.4602 - recall: 0.8654 - val_loss: 0.5118 - val_acc: 0.7143 - val_precision: 0.6000 - val_recall: 1.0000\n",
      "Epoch 338/500\n",
      "450/450 [==============================] - 2s 4ms/step - loss: 0.5890 - acc: 0.6244 - precision: 0.4798 - recall: 0.9088 - val_loss: 0.5121 - val_acc: 0.7551 - val_precision: 0.5833 - val_recall: 1.0000\n",
      "Epoch 339/500\n",
      "450/450 [==============================] - 2s 3ms/step - loss: 0.5886 - acc: 0.6511 - precision: 0.4636 - recall: 0.9067 - val_loss: 0.5127 - val_acc: 0.7755 - val_precision: 0.5833 - val_recall: 1.0000\n",
      "Epoch 340/500\n",
      "450/450 [==============================] - 1s 3ms/step - loss: 0.5814 - acc: 0.6489 - precision: 0.4639 - recall: 0.8813 - val_loss: 0.5129 - val_acc: 0.7755 - val_precision: 0.5676 - val_recall: 1.0000\n"
     ]
    },
    {
     "name": "stdout",
     "output_type": "stream",
     "text": [
      "Epoch 341/500\n",
      "450/450 [==============================] - 1s 3ms/step - loss: 0.5943 - acc: 0.6267 - precision: 0.4729 - recall: 0.9128 - val_loss: 0.5140 - val_acc: 0.7755 - val_precision: 0.5833 - val_recall: 1.0000\n",
      "Epoch 342/500\n",
      "450/450 [==============================] - 2s 4ms/step - loss: 0.5791 - acc: 0.6400 - precision: 0.4649 - recall: 0.8982 - val_loss: 0.5176 - val_acc: 0.7755 - val_precision: 0.5833 - val_recall: 1.0000\n",
      "Epoch 343/500\n",
      "450/450 [==============================] - 2s 5ms/step - loss: 0.5907 - acc: 0.6467 - precision: 0.4653 - recall: 0.9112 - val_loss: 0.5171 - val_acc: 0.7959 - val_precision: 0.5833 - val_recall: 1.0000\n",
      "Epoch 344/500\n",
      "450/450 [==============================] - 2s 5ms/step - loss: 0.5877 - acc: 0.6489 - precision: 0.4789 - recall: 0.8708 - val_loss: 0.5227 - val_acc: 0.8163 - val_precision: 0.5833 - val_recall: 1.0000\n",
      "Epoch 345/500\n",
      "450/450 [==============================] - 2s 4ms/step - loss: 0.5812 - acc: 0.6289 - precision: 0.4783 - recall: 0.9181 - val_loss: 0.5221 - val_acc: 0.8163 - val_precision: 0.5833 - val_recall: 1.0000\n",
      "Epoch 346/500\n",
      "450/450 [==============================] - 2s 5ms/step - loss: 0.5917 - acc: 0.6356 - precision: 0.4666 - recall: 0.8751 - val_loss: 0.5200 - val_acc: 0.7959 - val_precision: 0.5833 - val_recall: 1.0000\n",
      "Epoch 347/500\n",
      "450/450 [==============================] - 2s 4ms/step - loss: 0.5856 - acc: 0.6400 - precision: 0.4709 - recall: 0.9079 - val_loss: 0.5198 - val_acc: 0.7755 - val_precision: 0.5833 - val_recall: 1.0000\n",
      "Epoch 348/500\n",
      "450/450 [==============================] - 2s 3ms/step - loss: 0.5840 - acc: 0.6489 - precision: 0.4697 - recall: 0.8558 - val_loss: 0.5230 - val_acc: 0.7755 - val_precision: 0.5833 - val_recall: 1.0000\n",
      "Epoch 349/500\n",
      "450/450 [==============================] - 2s 4ms/step - loss: 0.5910 - acc: 0.6356 - precision: 0.4713 - recall: 0.8745 - val_loss: 0.5285 - val_acc: 0.7551 - val_precision: 0.5833 - val_recall: 1.0000\n",
      "Epoch 350/500\n",
      "450/450 [==============================] - 2s 4ms/step - loss: 0.5706 - acc: 0.6667 - precision: 0.4714 - recall: 0.8852 - val_loss: 0.5270 - val_acc: 0.7755 - val_precision: 0.5833 - val_recall: 1.0000\n",
      "Epoch 351/500\n",
      "450/450 [==============================] - 1s 3ms/step - loss: 0.5881 - acc: 0.6467 - precision: 0.4773 - recall: 0.9208 - val_loss: 0.5277 - val_acc: 0.7755 - val_precision: 0.5833 - val_recall: 1.0000\n",
      "Epoch 352/500\n",
      "450/450 [==============================] - 1s 3ms/step - loss: 0.5768 - acc: 0.6378 - precision: 0.4912 - recall: 0.9223 - val_loss: 0.5272 - val_acc: 0.7551 - val_precision: 0.5833 - val_recall: 1.0000\n",
      "Epoch 353/500\n",
      "450/450 [==============================] - 1s 3ms/step - loss: 0.5860 - acc: 0.6689 - precision: 0.4738 - recall: 0.8824 - val_loss: 0.5264 - val_acc: 0.7347 - val_precision: 0.5833 - val_recall: 1.0000\n",
      "Epoch 354/500\n",
      "450/450 [==============================] - 2s 4ms/step - loss: 0.5900 - acc: 0.6400 - precision: 0.4585 - recall: 0.8628 - val_loss: 0.5281 - val_acc: 0.6735 - val_precision: 0.5833 - val_recall: 1.0000\n",
      "Epoch 355/500\n",
      "450/450 [==============================] - 1s 3ms/step - loss: 0.5803 - acc: 0.6489 - precision: 0.4799 - recall: 0.9087 - val_loss: 0.5284 - val_acc: 0.7143 - val_precision: 0.5833 - val_recall: 1.0000\n",
      "Epoch 356/500\n",
      "450/450 [==============================] - 1s 3ms/step - loss: 0.5860 - acc: 0.6200 - precision: 0.4758 - recall: 0.9177 - val_loss: 0.5254 - val_acc: 0.7143 - val_precision: 0.5833 - val_recall: 1.0000\n",
      "Epoch 357/500\n",
      "450/450 [==============================] - 1s 3ms/step - loss: 0.5749 - acc: 0.6511 - precision: 0.4760 - recall: 0.9123 - val_loss: 0.5211 - val_acc: 0.7959 - val_precision: 0.5833 - val_recall: 1.0000\n",
      "Epoch 358/500\n",
      "450/450 [==============================] - 2s 4ms/step - loss: 0.5826 - acc: 0.6578 - precision: 0.4812 - recall: 0.9242 - val_loss: 0.5193 - val_acc: 0.7959 - val_precision: 0.5833 - val_recall: 1.0000\n",
      "Epoch 359/500\n",
      "450/450 [==============================] - 2s 4ms/step - loss: 0.6045 - acc: 0.5933 - precision: 0.4699 - recall: 0.8866 - val_loss: 0.5216 - val_acc: 0.7959 - val_precision: 0.5833 - val_recall: 1.0000\n",
      "Epoch 360/500\n",
      "450/450 [==============================] - 2s 4ms/step - loss: 0.5642 - acc: 0.6689 - precision: 0.4855 - recall: 0.9027 - val_loss: 0.5207 - val_acc: 0.7959 - val_precision: 0.5833 - val_recall: 1.0000\n",
      "Epoch 361/500\n",
      "450/450 [==============================] - 1s 3ms/step - loss: 0.5771 - acc: 0.6667 - precision: 0.4868 - recall: 0.9140 - val_loss: 0.5185 - val_acc: 0.7959 - val_precision: 0.5833 - val_recall: 1.0000\n",
      "Epoch 362/500\n",
      "450/450 [==============================] - 2s 4ms/step - loss: 0.5767 - acc: 0.6533 - precision: 0.4854 - recall: 0.9019 - val_loss: 0.5172 - val_acc: 0.7959 - val_precision: 0.5833 - val_recall: 1.0000\n",
      "Epoch 363/500\n",
      "450/450 [==============================] - 1s 3ms/step - loss: 0.6032 - acc: 0.6311 - precision: 0.4721 - recall: 0.8730 - val_loss: 0.5140 - val_acc: 0.7755 - val_precision: 0.5833 - val_recall: 1.0000\n",
      "Epoch 364/500\n",
      "450/450 [==============================] - 1s 3ms/step - loss: 0.5824 - acc: 0.6556 - precision: 0.4864 - recall: 0.9165 - val_loss: 0.5118 - val_acc: 0.7755 - val_precision: 0.5833 - val_recall: 1.0000\n",
      "Epoch 365/500\n",
      "450/450 [==============================] - 1s 3ms/step - loss: 0.5795 - acc: 0.6489 - precision: 0.4663 - recall: 0.8862 - val_loss: 0.5096 - val_acc: 0.7959 - val_precision: 0.5833 - val_recall: 1.0000\n",
      "Epoch 366/500\n",
      "450/450 [==============================] - 1s 3ms/step - loss: 0.5725 - acc: 0.6800 - precision: 0.4786 - recall: 0.9036 - val_loss: 0.5097 - val_acc: 0.7959 - val_precision: 0.5833 - val_recall: 1.0000\n",
      "Epoch 367/500\n",
      "450/450 [==============================] - 2s 4ms/step - loss: 0.5594 - acc: 0.6667 - precision: 0.4816 - recall: 0.9270 - val_loss: 0.5077 - val_acc: 0.7551 - val_precision: 0.5833 - val_recall: 1.0000\n",
      "Epoch 368/500\n",
      "450/450 [==============================] - 2s 4ms/step - loss: 0.5855 - acc: 0.6578 - precision: 0.4712 - recall: 0.8774 - val_loss: 0.5001 - val_acc: 0.7347 - val_precision: 0.6176 - val_recall: 1.0000\n",
      "Epoch 369/500\n",
      "450/450 [==============================] - 2s 4ms/step - loss: 0.5653 - acc: 0.6667 - precision: 0.4930 - recall: 0.9031 - val_loss: 0.5028 - val_acc: 0.7551 - val_precision: 0.6176 - val_recall: 1.0000\n",
      "Epoch 370/500\n",
      "450/450 [==============================] - 1s 3ms/step - loss: 0.5895 - acc: 0.6600 - precision: 0.4759 - recall: 0.8654 - val_loss: 0.5087 - val_acc: 0.7551 - val_precision: 0.6176 - val_recall: 1.0000\n",
      "Epoch 371/500\n",
      "450/450 [==============================] - 2s 4ms/step - loss: 0.5832 - acc: 0.6400 - precision: 0.4767 - recall: 0.8864 - val_loss: 0.5122 - val_acc: 0.6735 - val_precision: 0.6176 - val_recall: 1.0000\n",
      "Epoch 372/500\n",
      "450/450 [==============================] - 2s 4ms/step - loss: 0.5753 - acc: 0.6467 - precision: 0.4919 - recall: 0.9095 - val_loss: 0.5181 - val_acc: 0.6735 - val_precision: 0.6176 - val_recall: 1.0000\n",
      "Epoch 373/500\n",
      "450/450 [==============================] - 2s 4ms/step - loss: 0.5728 - acc: 0.6778 - precision: 0.4828 - recall: 0.8809 - val_loss: 0.5192 - val_acc: 0.6939 - val_precision: 0.6176 - val_recall: 1.0000\n",
      "Epoch 374/500\n",
      "450/450 [==============================] - 2s 3ms/step - loss: 0.5992 - acc: 0.6533 - precision: 0.4732 - recall: 0.8695 - val_loss: 0.5190 - val_acc: 0.6531 - val_precision: 0.6176 - val_recall: 1.0000\n",
      "Epoch 375/500\n",
      "450/450 [==============================] - 1s 3ms/step - loss: 0.5840 - acc: 0.6467 - precision: 0.4717 - recall: 0.8895 - val_loss: 0.5212 - val_acc: 0.6735 - val_precision: 0.6364 - val_recall: 1.0000\n",
      "Epoch 376/500\n",
      "450/450 [==============================] - 1s 3ms/step - loss: 0.5785 - acc: 0.6444 - precision: 0.4697 - recall: 0.8835 - val_loss: 0.5235 - val_acc: 0.6735 - val_precision: 0.6176 - val_recall: 1.0000\n",
      "Epoch 377/500\n",
      "450/450 [==============================] - 2s 4ms/step - loss: 0.5759 - acc: 0.6667 - precision: 0.4623 - recall: 0.8702 - val_loss: 0.5284 - val_acc: 0.6939 - val_precision: 0.6000 - val_recall: 1.0000\n",
      "Epoch 378/500\n",
      "450/450 [==============================] - 2s 4ms/step - loss: 0.6035 - acc: 0.6267 - precision: 0.4704 - recall: 0.8192 - val_loss: 0.5298 - val_acc: 0.6735 - val_precision: 0.6000 - val_recall: 1.0000\n"
     ]
    },
    {
     "name": "stdout",
     "output_type": "stream",
     "text": [
      "Epoch 379/500\n",
      "450/450 [==============================] - 1s 3ms/step - loss: 0.5801 - acc: 0.6378 - precision: 0.4840 - recall: 0.8985 - val_loss: 0.5268 - val_acc: 0.6327 - val_precision: 0.6000 - val_recall: 1.0000\n",
      "Epoch 380/500\n",
      "450/450 [==============================] - 1s 3ms/step - loss: 0.5805 - acc: 0.6978 - precision: 0.4887 - recall: 0.8595 - val_loss: 0.5183 - val_acc: 0.6735 - val_precision: 0.6000 - val_recall: 1.0000\n",
      "Epoch 381/500\n",
      "450/450 [==============================] - 1s 3ms/step - loss: 0.5831 - acc: 0.6378 - precision: 0.4722 - recall: 0.8680 - val_loss: 0.5161 - val_acc: 0.7143 - val_precision: 0.6000 - val_recall: 1.0000\n",
      "Epoch 382/500\n",
      "450/450 [==============================] - 1s 3ms/step - loss: 0.5901 - acc: 0.6422 - precision: 0.4588 - recall: 0.8523 - val_loss: 0.5178 - val_acc: 0.6735 - val_precision: 0.6176 - val_recall: 1.0000\n",
      "Epoch 383/500\n",
      "450/450 [==============================] - 2s 4ms/step - loss: 0.5769 - acc: 0.6556 - precision: 0.4812 - recall: 0.8915 - val_loss: 0.5191 - val_acc: 0.6735 - val_precision: 0.6176 - val_recall: 1.0000\n",
      "Epoch 384/500\n",
      "450/450 [==============================] - 2s 4ms/step - loss: 0.5857 - acc: 0.6511 - precision: 0.4699 - recall: 0.9091 - val_loss: 0.5200 - val_acc: 0.6735 - val_precision: 0.6000 - val_recall: 1.0000\n",
      "Epoch 385/500\n",
      "450/450 [==============================] - 2s 4ms/step - loss: 0.5660 - acc: 0.6489 - precision: 0.4854 - recall: 0.9130 - val_loss: 0.5185 - val_acc: 0.6735 - val_precision: 0.6000 - val_recall: 1.0000\n",
      "Epoch 386/500\n",
      "450/450 [==============================] - 1s 3ms/step - loss: 0.5808 - acc: 0.6689 - precision: 0.4722 - recall: 0.9129 - val_loss: 0.5143 - val_acc: 0.6939 - val_precision: 0.6000 - val_recall: 1.0000\n",
      "Epoch 387/500\n",
      "450/450 [==============================] - 2s 4ms/step - loss: 0.5767 - acc: 0.6689 - precision: 0.4744 - recall: 0.9417 - val_loss: 0.5123 - val_acc: 0.6939 - val_precision: 0.6000 - val_recall: 1.0000\n",
      "Epoch 388/500\n",
      "450/450 [==============================] - 2s 3ms/step - loss: 0.5883 - acc: 0.6289 - precision: 0.4716 - recall: 0.8915 - val_loss: 0.5147 - val_acc: 0.7347 - val_precision: 0.6000 - val_recall: 1.0000\n",
      "Epoch 389/500\n",
      "450/450 [==============================] - 1s 3ms/step - loss: 0.5754 - acc: 0.6444 - precision: 0.4736 - recall: 0.9162 - val_loss: 0.5156 - val_acc: 0.6939 - val_precision: 0.6000 - val_recall: 1.0000\n",
      "Epoch 390/500\n",
      "450/450 [==============================] - 1s 3ms/step - loss: 0.5815 - acc: 0.6422 - precision: 0.4819 - recall: 0.9029 - val_loss: 0.5174 - val_acc: 0.6735 - val_precision: 0.6000 - val_recall: 1.0000\n",
      "Epoch 391/500\n",
      "450/450 [==============================] - 2s 4ms/step - loss: 0.6067 - acc: 0.6267 - precision: 0.4529 - recall: 0.8497 - val_loss: 0.5189 - val_acc: 0.6735 - val_precision: 0.5833 - val_recall: 1.0000\n",
      "Epoch 392/500\n",
      "450/450 [==============================] - 2s 4ms/step - loss: 0.5809 - acc: 0.6422 - precision: 0.4718 - recall: 0.9025 - val_loss: 0.5189 - val_acc: 0.7143 - val_precision: 0.5833 - val_recall: 1.0000\n",
      "Epoch 393/500\n",
      "450/450 [==============================] - 1s 3ms/step - loss: 0.5816 - acc: 0.6533 - precision: 0.4688 - recall: 0.9081 - val_loss: 0.5138 - val_acc: 0.7143 - val_precision: 0.5714 - val_recall: 0.9524\n",
      "Epoch 394/500\n",
      "450/450 [==============================] - 1s 3ms/step - loss: 0.5783 - acc: 0.6444 - precision: 0.4749 - recall: 0.8958 - val_loss: 0.5111 - val_acc: 0.6735 - val_precision: 0.6129 - val_recall: 0.9048\n",
      "Epoch 395/500\n",
      "450/450 [==============================] - 1s 3ms/step - loss: 0.5740 - acc: 0.6600 - precision: 0.4823 - recall: 0.9156 - val_loss: 0.5109 - val_acc: 0.7347 - val_precision: 0.6129 - val_recall: 0.9048\n",
      "Epoch 396/500\n",
      "450/450 [==============================] - 2s 4ms/step - loss: 0.5639 - acc: 0.6689 - precision: 0.4702 - recall: 0.9017 - val_loss: 0.5126 - val_acc: 0.6939 - val_precision: 0.6129 - val_recall: 0.9048\n",
      "Epoch 397/500\n",
      "450/450 [==============================] - 1s 3ms/step - loss: 0.5663 - acc: 0.6689 - precision: 0.4739 - recall: 0.8841 - val_loss: 0.5158 - val_acc: 0.6735 - val_precision: 0.6333 - val_recall: 0.9048\n",
      "Epoch 398/500\n",
      "450/450 [==============================] - 1s 3ms/step - loss: 0.5871 - acc: 0.6244 - precision: 0.5013 - recall: 0.9144 - val_loss: 0.5204 - val_acc: 0.6122 - val_precision: 0.6333 - val_recall: 0.9048\n",
      "Epoch 399/500\n",
      "450/450 [==============================] - 2s 4ms/step - loss: 0.5917 - acc: 0.6489 - precision: 0.4709 - recall: 0.8838 - val_loss: 0.5281 - val_acc: 0.6122 - val_precision: 0.6333 - val_recall: 0.9048\n",
      "Epoch 400/500\n",
      "450/450 [==============================] - 2s 4ms/step - loss: 0.5828 - acc: 0.6600 - precision: 0.4745 - recall: 0.8920 - val_loss: 0.5267 - val_acc: 0.6122 - val_precision: 0.6129 - val_recall: 0.9048\n",
      "Epoch 401/500\n",
      "450/450 [==============================] - 2s 4ms/step - loss: 0.5882 - acc: 0.6556 - precision: 0.4835 - recall: 0.8924 - val_loss: 0.5164 - val_acc: 0.7143 - val_precision: 0.5882 - val_recall: 0.9524\n",
      "Epoch 402/500\n",
      "450/450 [==============================] - 1s 3ms/step - loss: 0.5908 - acc: 0.6200 - precision: 0.4764 - recall: 0.8994 - val_loss: 0.5189 - val_acc: 0.6939 - val_precision: 0.5758 - val_recall: 0.9048\n",
      "Epoch 403/500\n",
      "450/450 [==============================] - 2s 4ms/step - loss: 0.5756 - acc: 0.6533 - precision: 0.4816 - recall: 0.9208 - val_loss: 0.5200 - val_acc: 0.6327 - val_precision: 0.6129 - val_recall: 0.9048\n",
      "Epoch 404/500\n",
      "450/450 [==============================] - 1s 3ms/step - loss: 0.5860 - acc: 0.6333 - precision: 0.4789 - recall: 0.9025 - val_loss: 0.5171 - val_acc: 0.6327 - val_precision: 0.6129 - val_recall: 0.9048\n",
      "Epoch 405/500\n",
      "450/450 [==============================] - 1s 3ms/step - loss: 0.5909 - acc: 0.6378 - precision: 0.4855 - recall: 0.8840 - val_loss: 0.5143 - val_acc: 0.6939 - val_precision: 0.6129 - val_recall: 0.9048\n",
      "Epoch 406/500\n",
      "450/450 [==============================] - 2s 3ms/step - loss: 0.5859 - acc: 0.6844 - precision: 0.4558 - recall: 0.8588 - val_loss: 0.5083 - val_acc: 0.7551 - val_precision: 0.5833 - val_recall: 1.0000\n",
      "Epoch 407/500\n",
      "450/450 [==============================] - 1s 3ms/step - loss: 0.5768 - acc: 0.6356 - precision: 0.4994 - recall: 0.9311 - val_loss: 0.5079 - val_acc: 0.7755 - val_precision: 0.5833 - val_recall: 1.0000\n",
      "Epoch 408/500\n",
      "450/450 [==============================] - 1s 3ms/step - loss: 0.5996 - acc: 0.6400 - precision: 0.4604 - recall: 0.8912 - val_loss: 0.5072 - val_acc: 0.7755 - val_precision: 0.5833 - val_recall: 1.0000\n",
      "Epoch 409/500\n",
      "450/450 [==============================] - 1s 3ms/step - loss: 0.5735 - acc: 0.6444 - precision: 0.4971 - recall: 0.9076 - val_loss: 0.5066 - val_acc: 0.7551 - val_precision: 0.5833 - val_recall: 1.0000\n",
      "Epoch 410/500\n",
      "450/450 [==============================] - 1s 3ms/step - loss: 0.5836 - acc: 0.6556 - precision: 0.4753 - recall: 0.8841 - val_loss: 0.5066 - val_acc: 0.7755 - val_precision: 0.5833 - val_recall: 1.0000\n",
      "Epoch 411/500\n",
      "450/450 [==============================] - 1s 3ms/step - loss: 0.5897 - acc: 0.6378 - precision: 0.4714 - recall: 0.8885 - val_loss: 0.5067 - val_acc: 0.7347 - val_precision: 0.5833 - val_recall: 1.0000\n",
      "Epoch 412/500\n",
      "450/450 [==============================] - 1s 3ms/step - loss: 0.5747 - acc: 0.6756 - precision: 0.4716 - recall: 0.8939 - val_loss: 0.5063 - val_acc: 0.7551 - val_precision: 0.5833 - val_recall: 1.0000\n",
      "Epoch 413/500\n",
      "450/450 [==============================] - 1s 3ms/step - loss: 0.5721 - acc: 0.6644 - precision: 0.4831 - recall: 0.9219 - val_loss: 0.5059 - val_acc: 0.7755 - val_precision: 0.5833 - val_recall: 1.0000\n",
      "Epoch 414/500\n",
      "450/450 [==============================] - 1s 3ms/step - loss: 0.5720 - acc: 0.6489 - precision: 0.4842 - recall: 0.8955 - val_loss: 0.5067 - val_acc: 0.7755 - val_precision: 0.5833 - val_recall: 1.0000\n",
      "Epoch 415/500\n",
      "450/450 [==============================] - 1s 3ms/step - loss: 0.5749 - acc: 0.6267 - precision: 0.4903 - recall: 0.9051 - val_loss: 0.5073 - val_acc: 0.7551 - val_precision: 0.5833 - val_recall: 1.0000\n",
      "Epoch 416/500\n",
      "450/450 [==============================] - 1s 3ms/step - loss: 0.5775 - acc: 0.6356 - precision: 0.5070 - recall: 0.9053 - val_loss: 0.5070 - val_acc: 0.7755 - val_precision: 0.5833 - val_recall: 1.0000\n"
     ]
    },
    {
     "name": "stdout",
     "output_type": "stream",
     "text": [
      "Epoch 417/500\n",
      "450/450 [==============================] - 1s 3ms/step - loss: 0.5875 - acc: 0.6467 - precision: 0.4534 - recall: 0.8488 - val_loss: 0.5071 - val_acc: 0.7755 - val_precision: 0.5833 - val_recall: 1.0000\n",
      "Epoch 418/500\n",
      "450/450 [==============================] - 1s 3ms/step - loss: 0.5673 - acc: 0.6511 - precision: 0.5037 - recall: 0.9073 - val_loss: 0.5069 - val_acc: 0.7755 - val_precision: 0.5833 - val_recall: 1.0000\n",
      "Epoch 419/500\n",
      "450/450 [==============================] - 1s 3ms/step - loss: 0.5883 - acc: 0.6489 - precision: 0.4696 - recall: 0.8863 - val_loss: 0.5066 - val_acc: 0.7959 - val_precision: 0.5833 - val_recall: 1.0000\n",
      "Epoch 420/500\n",
      "450/450 [==============================] - 1s 3ms/step - loss: 0.5838 - acc: 0.6356 - precision: 0.4802 - recall: 0.8999 - val_loss: 0.5067 - val_acc: 0.7755 - val_precision: 0.5676 - val_recall: 1.0000\n",
      "Epoch 421/500\n",
      "450/450 [==============================] - 2s 4ms/step - loss: 0.5990 - acc: 0.6578 - precision: 0.4696 - recall: 0.8772 - val_loss: 0.5080 - val_acc: 0.7959 - val_precision: 0.5676 - val_recall: 1.0000\n",
      "Epoch 422/500\n",
      "450/450 [==============================] - 1s 3ms/step - loss: 0.5842 - acc: 0.6489 - precision: 0.4789 - recall: 0.8757 - val_loss: 0.5107 - val_acc: 0.7959 - val_precision: 0.5676 - val_recall: 1.0000\n",
      "Epoch 423/500\n",
      "450/450 [==============================] - 2s 3ms/step - loss: 0.5866 - acc: 0.6200 - precision: 0.4712 - recall: 0.8825 - val_loss: 0.5138 - val_acc: 0.8163 - val_precision: 0.5676 - val_recall: 1.0000\n",
      "Epoch 424/500\n",
      "450/450 [==============================] - 2s 3ms/step - loss: 0.5584 - acc: 0.6778 - precision: 0.4942 - recall: 0.8888 - val_loss: 0.5170 - val_acc: 0.7959 - val_precision: 0.5676 - val_recall: 1.0000\n",
      "Epoch 425/500\n",
      "450/450 [==============================] - 2s 4ms/step - loss: 0.5996 - acc: 0.6178 - precision: 0.4718 - recall: 0.8720 - val_loss: 0.5175 - val_acc: 0.7959 - val_precision: 0.5833 - val_recall: 1.0000\n",
      "Epoch 426/500\n",
      "450/450 [==============================] - 1s 3ms/step - loss: 0.5765 - acc: 0.6467 - precision: 0.4818 - recall: 0.8972 - val_loss: 0.5169 - val_acc: 0.7959 - val_precision: 0.5833 - val_recall: 1.0000\n",
      "Epoch 427/500\n",
      "450/450 [==============================] - 1s 3ms/step - loss: 0.5847 - acc: 0.6378 - precision: 0.4725 - recall: 0.8496 - val_loss: 0.5246 - val_acc: 0.7755 - val_precision: 0.5833 - val_recall: 1.0000\n",
      "Epoch 428/500\n",
      "450/450 [==============================] - 1s 3ms/step - loss: 0.5771 - acc: 0.6444 - precision: 0.4946 - recall: 0.9259 - val_loss: 0.5271 - val_acc: 0.7551 - val_precision: 0.5833 - val_recall: 1.0000\n",
      "Epoch 429/500\n",
      "450/450 [==============================] - 2s 4ms/step - loss: 0.5813 - acc: 0.6467 - precision: 0.4864 - recall: 0.8898 - val_loss: 0.5288 - val_acc: 0.7347 - val_precision: 0.5833 - val_recall: 1.0000\n",
      "Epoch 430/500\n",
      "450/450 [==============================] - 2s 4ms/step - loss: 0.5866 - acc: 0.6622 - precision: 0.4770 - recall: 0.8941 - val_loss: 0.5298 - val_acc: 0.7551 - val_precision: 0.5833 - val_recall: 1.0000\n",
      "Epoch 431/500\n",
      "450/450 [==============================] - 2s 4ms/step - loss: 0.5891 - acc: 0.6378 - precision: 0.4864 - recall: 0.8952 - val_loss: 0.5288 - val_acc: 0.7551 - val_precision: 0.5833 - val_recall: 1.0000\n",
      "Epoch 432/500\n",
      "450/450 [==============================] - 2s 4ms/step - loss: 0.5844 - acc: 0.6267 - precision: 0.4705 - recall: 0.8760 - val_loss: 0.5295 - val_acc: 0.7347 - val_precision: 0.5833 - val_recall: 1.0000\n",
      "Epoch 433/500\n",
      "450/450 [==============================] - 2s 4ms/step - loss: 0.5755 - acc: 0.6578 - precision: 0.4759 - recall: 0.8886 - val_loss: 0.5290 - val_acc: 0.7551 - val_precision: 0.5833 - val_recall: 1.0000\n",
      "Epoch 434/500\n",
      "450/450 [==============================] - 1s 3ms/step - loss: 0.5839 - acc: 0.6467 - precision: 0.4835 - recall: 0.8853 - val_loss: 0.5286 - val_acc: 0.7755 - val_precision: 0.5833 - val_recall: 1.0000\n",
      "Epoch 435/500\n",
      "450/450 [==============================] - 1s 3ms/step - loss: 0.5669 - acc: 0.6689 - precision: 0.4909 - recall: 0.9252 - val_loss: 0.5272 - val_acc: 0.7551 - val_precision: 0.5833 - val_recall: 1.0000\n",
      "Epoch 436/500\n",
      "450/450 [==============================] - 2s 4ms/step - loss: 0.5896 - acc: 0.6444 - precision: 0.4810 - recall: 0.9005 - val_loss: 0.5249 - val_acc: 0.7551 - val_precision: 0.5833 - val_recall: 1.0000\n",
      "Epoch 437/500\n",
      "450/450 [==============================] - 1s 3ms/step - loss: 0.5876 - acc: 0.6444 - precision: 0.4793 - recall: 0.8944 - val_loss: 0.5247 - val_acc: 0.6531 - val_precision: 0.6000 - val_recall: 1.0000\n",
      "Epoch 438/500\n",
      "450/450 [==============================] - 1s 3ms/step - loss: 0.5889 - acc: 0.6267 - precision: 0.5070 - recall: 0.8867 - val_loss: 0.5311 - val_acc: 0.6735 - val_precision: 0.6000 - val_recall: 1.0000\n",
      "Epoch 439/500\n",
      "450/450 [==============================] - 2s 4ms/step - loss: 0.5835 - acc: 0.6422 - precision: 0.4847 - recall: 0.9087 - val_loss: 0.5339 - val_acc: 0.6735 - val_precision: 0.6000 - val_recall: 1.0000\n",
      "Epoch 440/500\n",
      "450/450 [==============================] - 2s 4ms/step - loss: 0.5804 - acc: 0.6333 - precision: 0.4802 - recall: 0.9272 - val_loss: 0.5329 - val_acc: 0.6327 - val_precision: 0.6176 - val_recall: 1.0000\n",
      "Epoch 441/500\n",
      "450/450 [==============================] - 2s 3ms/step - loss: 0.5645 - acc: 0.6667 - precision: 0.4902 - recall: 0.8970 - val_loss: 0.5298 - val_acc: 0.6531 - val_precision: 0.6176 - val_recall: 1.0000\n",
      "Epoch 442/500\n",
      "450/450 [==============================] - 2s 4ms/step - loss: 0.5724 - acc: 0.6422 - precision: 0.4970 - recall: 0.8841 - val_loss: 0.5294 - val_acc: 0.6531 - val_precision: 0.6176 - val_recall: 1.0000\n",
      "Epoch 443/500\n",
      "450/450 [==============================] - 2s 4ms/step - loss: 0.5679 - acc: 0.6644 - precision: 0.4891 - recall: 0.8992 - val_loss: 0.5243 - val_acc: 0.7143 - val_precision: 0.6000 - val_recall: 1.0000\n",
      "Epoch 444/500\n",
      "450/450 [==============================] - 2s 4ms/step - loss: 0.5754 - acc: 0.6533 - precision: 0.4831 - recall: 0.9121 - val_loss: 0.5237 - val_acc: 0.6531 - val_precision: 0.6000 - val_recall: 1.0000\n",
      "Epoch 445/500\n",
      "450/450 [==============================] - 2s 3ms/step - loss: 0.5746 - acc: 0.6556 - precision: 0.4950 - recall: 0.9129 - val_loss: 0.5179 - val_acc: 0.6939 - val_precision: 0.5938 - val_recall: 0.9048\n",
      "Epoch 446/500\n",
      "450/450 [==============================] - 2s 3ms/step - loss: 0.5776 - acc: 0.6533 - precision: 0.4963 - recall: 0.9007 - val_loss: 0.5117 - val_acc: 0.7347 - val_precision: 0.6129 - val_recall: 0.9048\n",
      "Epoch 447/500\n",
      "450/450 [==============================] - 2s 4ms/step - loss: 0.5797 - acc: 0.6556 - precision: 0.4688 - recall: 0.8842 - val_loss: 0.5100 - val_acc: 0.7347 - val_precision: 0.6176 - val_recall: 1.0000\n",
      "Epoch 448/500\n",
      "450/450 [==============================] - 2s 4ms/step - loss: 0.5967 - acc: 0.6422 - precision: 0.4733 - recall: 0.8935 - val_loss: 0.5159 - val_acc: 0.7347 - val_precision: 0.6000 - val_recall: 1.0000\n",
      "Epoch 449/500\n",
      "450/450 [==============================] - 2s 4ms/step - loss: 0.5927 - acc: 0.6022 - precision: 0.4788 - recall: 0.9000 - val_loss: 0.5228 - val_acc: 0.7347 - val_precision: 0.5833 - val_recall: 1.0000\n",
      "Epoch 450/500\n",
      "450/450 [==============================] - 2s 4ms/step - loss: 0.5835 - acc: 0.6600 - precision: 0.4769 - recall: 0.9060 - val_loss: 0.5245 - val_acc: 0.7347 - val_precision: 0.5833 - val_recall: 1.0000\n",
      "Epoch 451/500\n",
      "450/450 [==============================] - 2s 4ms/step - loss: 0.5845 - acc: 0.6400 - precision: 0.4783 - recall: 0.8665 - val_loss: 0.5221 - val_acc: 0.7143 - val_precision: 0.6000 - val_recall: 1.0000\n",
      "Epoch 452/500\n",
      "450/450 [==============================] - 2s 3ms/step - loss: 0.5836 - acc: 0.6333 - precision: 0.4841 - recall: 0.9291 - val_loss: 0.5200 - val_acc: 0.7551 - val_precision: 0.5833 - val_recall: 1.0000\n",
      "Epoch 453/500\n",
      "450/450 [==============================] - 2s 3ms/step - loss: 0.5725 - acc: 0.6556 - precision: 0.4826 - recall: 0.9119 - val_loss: 0.5138 - val_acc: 0.7755 - val_precision: 0.5833 - val_recall: 1.0000\n",
      "Epoch 454/500\n",
      "450/450 [==============================] - 2s 4ms/step - loss: 0.5912 - acc: 0.6044 - precision: 0.4743 - recall: 0.9135 - val_loss: 0.5124 - val_acc: 0.8163 - val_precision: 0.5833 - val_recall: 1.0000\n"
     ]
    },
    {
     "name": "stdout",
     "output_type": "stream",
     "text": [
      "Epoch 455/500\n",
      "450/450 [==============================] - 2s 4ms/step - loss: 0.5794 - acc: 0.6733 - precision: 0.4555 - recall: 0.9177 - val_loss: 0.5133 - val_acc: 0.7959 - val_precision: 0.5833 - val_recall: 1.0000\n",
      "Epoch 456/500\n",
      "450/450 [==============================] - 2s 3ms/step - loss: 0.5747 - acc: 0.6422 - precision: 0.4799 - recall: 0.9312 - val_loss: 0.5169 - val_acc: 0.7959 - val_precision: 0.5833 - val_recall: 1.0000\n",
      "Epoch 457/500\n",
      "450/450 [==============================] - 2s 4ms/step - loss: 0.5750 - acc: 0.6422 - precision: 0.4955 - recall: 0.9262 - val_loss: 0.5169 - val_acc: 0.7551 - val_precision: 0.5833 - val_recall: 1.0000\n",
      "Epoch 458/500\n",
      "450/450 [==============================] - 2s 4ms/step - loss: 0.5701 - acc: 0.6556 - precision: 0.4838 - recall: 0.9191 - val_loss: 0.5153 - val_acc: 0.7551 - val_precision: 0.5833 - val_recall: 1.0000\n",
      "Epoch 459/500\n",
      "450/450 [==============================] - 2s 3ms/step - loss: 0.5860 - acc: 0.6200 - precision: 0.4787 - recall: 0.8923 - val_loss: 0.5129 - val_acc: 0.7551 - val_precision: 0.5833 - val_recall: 1.0000\n",
      "Epoch 460/500\n",
      "450/450 [==============================] - 1s 3ms/step - loss: 0.5851 - acc: 0.6422 - precision: 0.4807 - recall: 0.9021 - val_loss: 0.5131 - val_acc: 0.7347 - val_precision: 0.6000 - val_recall: 1.0000\n",
      "Epoch 461/500\n",
      "450/450 [==============================] - 2s 3ms/step - loss: 0.5914 - acc: 0.6422 - precision: 0.4773 - recall: 0.8700 - val_loss: 0.5166 - val_acc: 0.7347 - val_precision: 0.6000 - val_recall: 1.0000\n",
      "Epoch 462/500\n",
      "450/450 [==============================] - 1s 3ms/step - loss: 0.5806 - acc: 0.6556 - precision: 0.4880 - recall: 0.8919 - val_loss: 0.5216 - val_acc: 0.7551 - val_precision: 0.6000 - val_recall: 1.0000\n",
      "Epoch 463/500\n",
      "450/450 [==============================] - 2s 3ms/step - loss: 0.5785 - acc: 0.6600 - precision: 0.4967 - recall: 0.8967 - val_loss: 0.5269 - val_acc: 0.6939 - val_precision: 0.6000 - val_recall: 1.0000\n",
      "Epoch 464/500\n",
      "450/450 [==============================] - 2s 3ms/step - loss: 0.5814 - acc: 0.6378 - precision: 0.4861 - recall: 0.8985 - val_loss: 0.5274 - val_acc: 0.6939 - val_precision: 0.6000 - val_recall: 1.0000\n",
      "Epoch 465/500\n",
      "450/450 [==============================] - 2s 4ms/step - loss: 0.5697 - acc: 0.6689 - precision: 0.4776 - recall: 0.9043 - val_loss: 0.5276 - val_acc: 0.7347 - val_precision: 0.6000 - val_recall: 1.0000\n",
      "Epoch 466/500\n",
      "450/450 [==============================] - 2s 5ms/step - loss: 0.5675 - acc: 0.6511 - precision: 0.4769 - recall: 0.8837 - val_loss: 0.5260 - val_acc: 0.7347 - val_precision: 0.6000 - val_recall: 1.0000\n",
      "Epoch 467/500\n",
      "450/450 [==============================] - 2s 4ms/step - loss: 0.5825 - acc: 0.6133 - precision: 0.4875 - recall: 0.8879 - val_loss: 0.5258 - val_acc: 0.7347 - val_precision: 0.6176 - val_recall: 1.0000\n",
      "Epoch 468/500\n",
      "450/450 [==============================] - 2s 4ms/step - loss: 0.5916 - acc: 0.6578 - precision: 0.4767 - recall: 0.9070 - val_loss: 0.5275 - val_acc: 0.7551 - val_precision: 0.6176 - val_recall: 1.0000\n",
      "Epoch 469/500\n",
      "450/450 [==============================] - 2s 4ms/step - loss: 0.5801 - acc: 0.6600 - precision: 0.4858 - recall: 0.9018 - val_loss: 0.5283 - val_acc: 0.7347 - val_precision: 0.6000 - val_recall: 1.0000\n",
      "Epoch 470/500\n",
      "450/450 [==============================] - 2s 4ms/step - loss: 0.5805 - acc: 0.6178 - precision: 0.4615 - recall: 0.9002 - val_loss: 0.5300 - val_acc: 0.7551 - val_precision: 0.6000 - val_recall: 1.0000\n",
      "Epoch 471/500\n",
      "450/450 [==============================] - 2s 4ms/step - loss: 0.5950 - acc: 0.6467 - precision: 0.4739 - recall: 0.8713 - val_loss: 0.5338 - val_acc: 0.7551 - val_precision: 0.6000 - val_recall: 1.0000\n",
      "Epoch 472/500\n",
      "450/450 [==============================] - 2s 4ms/step - loss: 0.5748 - acc: 0.6489 - precision: 0.4729 - recall: 0.9047 - val_loss: 0.5366 - val_acc: 0.6735 - val_precision: 0.6000 - val_recall: 1.0000\n",
      "Epoch 473/500\n",
      "450/450 [==============================] - 1s 3ms/step - loss: 0.5846 - acc: 0.6400 - precision: 0.4652 - recall: 0.8903 - val_loss: 0.5373 - val_acc: 0.6939 - val_precision: 0.6176 - val_recall: 1.0000\n",
      "Epoch 474/500\n",
      "450/450 [==============================] - 2s 4ms/step - loss: 0.5908 - acc: 0.6711 - precision: 0.4678 - recall: 0.9022 - val_loss: 0.5364 - val_acc: 0.6939 - val_precision: 0.6176 - val_recall: 1.0000\n",
      "Epoch 475/500\n",
      "450/450 [==============================] - 2s 4ms/step - loss: 0.5849 - acc: 0.6489 - precision: 0.4702 - recall: 0.8785 - val_loss: 0.5454 - val_acc: 0.5714 - val_precision: 0.6250 - val_recall: 0.9524\n",
      "Epoch 476/500\n",
      "450/450 [==============================] - 2s 4ms/step - loss: 0.5847 - acc: 0.6533 - precision: 0.4810 - recall: 0.8813 - val_loss: 0.5432 - val_acc: 0.5918 - val_precision: 0.6250 - val_recall: 0.9524\n",
      "Epoch 477/500\n",
      "450/450 [==============================] - 2s 3ms/step - loss: 0.5829 - acc: 0.6689 - precision: 0.4708 - recall: 0.8582 - val_loss: 0.5429 - val_acc: 0.5918 - val_precision: 0.6250 - val_recall: 0.9524\n",
      "Epoch 478/500\n",
      "450/450 [==============================] - 2s 4ms/step - loss: 0.5746 - acc: 0.6489 - precision: 0.4895 - recall: 0.9431 - val_loss: 0.5401 - val_acc: 0.6531 - val_precision: 0.6250 - val_recall: 0.9524\n",
      "Epoch 479/500\n",
      "450/450 [==============================] - 2s 4ms/step - loss: 0.5758 - acc: 0.6578 - precision: 0.4829 - recall: 0.9148 - val_loss: 0.5381 - val_acc: 0.6531 - val_precision: 0.6364 - val_recall: 1.0000\n",
      "Epoch 480/500\n",
      "450/450 [==============================] - 2s 3ms/step - loss: 0.5845 - acc: 0.6533 - precision: 0.4777 - recall: 0.8882 - val_loss: 0.5380 - val_acc: 0.6327 - val_precision: 0.6364 - val_recall: 1.0000\n",
      "Epoch 481/500\n",
      "450/450 [==============================] - 2s 4ms/step - loss: 0.5719 - acc: 0.6533 - precision: 0.4924 - recall: 0.9089 - val_loss: 0.5367 - val_acc: 0.6735 - val_precision: 0.6250 - val_recall: 0.9524\n",
      "Epoch 482/500\n",
      "450/450 [==============================] - 2s 4ms/step - loss: 0.5812 - acc: 0.6467 - precision: 0.4835 - recall: 0.8855 - val_loss: 0.5319 - val_acc: 0.6531 - val_precision: 0.6364 - val_recall: 1.0000\n",
      "Epoch 483/500\n",
      "450/450 [==============================] - 2s 4ms/step - loss: 0.5810 - acc: 0.6489 - precision: 0.4880 - recall: 0.8795 - val_loss: 0.5283 - val_acc: 0.6939 - val_precision: 0.6364 - val_recall: 1.0000\n",
      "Epoch 484/500\n",
      "450/450 [==============================] - 2s 4ms/step - loss: 0.5694 - acc: 0.6622 - precision: 0.4873 - recall: 0.9150 - val_loss: 0.5249 - val_acc: 0.6939 - val_precision: 0.6364 - val_recall: 1.0000\n",
      "Epoch 485/500\n",
      "450/450 [==============================] - 2s 4ms/step - loss: 0.5760 - acc: 0.6511 - precision: 0.4926 - recall: 0.9212 - val_loss: 0.5327 - val_acc: 0.6735 - val_precision: 0.6364 - val_recall: 1.0000\n",
      "Epoch 486/500\n",
      "450/450 [==============================] - 2s 4ms/step - loss: 0.5755 - acc: 0.6333 - precision: 0.4803 - recall: 0.8910 - val_loss: 0.5351 - val_acc: 0.6531 - val_precision: 0.6176 - val_recall: 1.0000\n",
      "Epoch 487/500\n",
      "450/450 [==============================] - 2s 4ms/step - loss: 0.5798 - acc: 0.6511 - precision: 0.4755 - recall: 0.8906 - val_loss: 0.5327 - val_acc: 0.6735 - val_precision: 0.6176 - val_recall: 1.0000\n",
      "Epoch 488/500\n",
      "450/450 [==============================] - 2s 4ms/step - loss: 0.5803 - acc: 0.6356 - precision: 0.4664 - recall: 0.9046 - val_loss: 0.5380 - val_acc: 0.6939 - val_precision: 0.6176 - val_recall: 1.0000\n",
      "Epoch 489/500\n",
      "450/450 [==============================] - 2s 4ms/step - loss: 0.5700 - acc: 0.6578 - precision: 0.4751 - recall: 0.8887 - val_loss: 0.5393 - val_acc: 0.6939 - val_precision: 0.6176 - val_recall: 1.0000\n",
      "Epoch 490/500\n",
      "450/450 [==============================] - 2s 4ms/step - loss: 0.5797 - acc: 0.6511 - precision: 0.4767 - recall: 0.9149 - val_loss: 0.5485 - val_acc: 0.5714 - val_precision: 0.6364 - val_recall: 1.0000\n",
      "Epoch 491/500\n",
      "450/450 [==============================] - 2s 4ms/step - loss: 0.5790 - acc: 0.6267 - precision: 0.4798 - recall: 0.9031 - val_loss: 0.5463 - val_acc: 0.5714 - val_precision: 0.6364 - val_recall: 1.0000\n",
      "Epoch 492/500\n",
      "450/450 [==============================] - 2s 3ms/step - loss: 0.5757 - acc: 0.6400 - precision: 0.4790 - recall: 0.9056 - val_loss: 0.5438 - val_acc: 0.5918 - val_precision: 0.6364 - val_recall: 1.0000\n"
     ]
    },
    {
     "name": "stdout",
     "output_type": "stream",
     "text": [
      "Epoch 493/500\n",
      "450/450 [==============================] - 1s 3ms/step - loss: 0.5842 - acc: 0.6244 - precision: 0.4726 - recall: 0.9033 - val_loss: 0.5400 - val_acc: 0.6327 - val_precision: 0.6364 - val_recall: 1.0000\n",
      "Epoch 494/500\n",
      "450/450 [==============================] - 1s 3ms/step - loss: 0.5743 - acc: 0.6511 - precision: 0.4678 - recall: 0.8624 - val_loss: 0.5359 - val_acc: 0.6327 - val_precision: 0.6364 - val_recall: 1.0000\n",
      "Epoch 495/500\n",
      "450/450 [==============================] - 2s 3ms/step - loss: 0.5709 - acc: 0.6556 - precision: 0.4783 - recall: 0.9028 - val_loss: 0.5313 - val_acc: 0.6327 - val_precision: 0.6364 - val_recall: 1.0000\n",
      "Epoch 496/500\n",
      "450/450 [==============================] - 2s 3ms/step - loss: 0.5910 - acc: 0.6289 - precision: 0.4760 - recall: 0.8690 - val_loss: 0.5219 - val_acc: 0.6735 - val_precision: 0.6364 - val_recall: 1.0000\n",
      "Epoch 497/500\n",
      "450/450 [==============================] - 2s 4ms/step - loss: 0.5587 - acc: 0.6489 - precision: 0.5130 - recall: 0.9364 - val_loss: 0.5178 - val_acc: 0.7755 - val_precision: 0.6000 - val_recall: 1.0000\n",
      "Epoch 498/500\n",
      "450/450 [==============================] - 2s 4ms/step - loss: 0.5706 - acc: 0.6822 - precision: 0.4905 - recall: 0.9017 - val_loss: 0.5121 - val_acc: 0.7755 - val_precision: 0.6000 - val_recall: 1.0000\n",
      "Epoch 499/500\n",
      "450/450 [==============================] - 2s 4ms/step - loss: 0.5881 - acc: 0.6578 - precision: 0.4812 - recall: 0.8644 - val_loss: 0.5102 - val_acc: 0.7551 - val_precision: 0.6000 - val_recall: 1.0000\n",
      "Epoch 500/500\n",
      "450/450 [==============================] - 1s 3ms/step - loss: 0.5909 - acc: 0.6422 - precision: 0.4643 - recall: 0.8472 - val_loss: 0.5094 - val_acc: 0.7551 - val_precision: 0.6000 - val_recall: 1.0000\n"
     ]
    }
   ],
   "source": [
    "df = pd.read_csv('sample_data.csv')\n",
    "\n",
    "sentences1 = list(df['sentences1'])\n",
    "sentences2 = list(df['sentences2'])\n",
    "is_similar = list(df['is_similar'])\n",
    "\n",
    "del df\n",
    "sent = []\n",
    "for sentence in sentences1 + sentences2:\n",
    "    new_sentence = []\n",
    "    for word in sentence.split():\n",
    "        word = word.lower()\n",
    "        new_sentence.append(word)\n",
    "    sent.append(new_sentence)\n",
    "    \n",
    "# print (sent)    \n",
    "\n",
    "tokenizer, embedding_matrix = word_embed_meta_data(sent, siamese_config['EMBEDDING_DIM'])\n",
    "\n",
    "embedding_meta_data = {\n",
    "    'tokenizer': tokenizer,\n",
    "    'embedding_matrix': embedding_matrix }\n",
    "\n",
    "sentences_pair = [(x1, x2) for x1, x2 in zip(sentences1, sentences2)]\n",
    "\n",
    "class Configuration(object):\n",
    "    pass\n",
    "\n",
    "CONFIG = Configuration()\n",
    "CONFIG.embedding_dim = siamese_config['EMBEDDING_DIM']\n",
    "CONFIG.max_sequence_length = siamese_config['MAX_SEQUENCE_LENGTH']\n",
    "CONFIG.number_lstm_units = siamese_config['NUMBER_LSTM']\n",
    "CONFIG.rate_drop_lstm = siamese_config['RATE_DROP_LSTM']\n",
    "CONFIG.number_dense_units = siamese_config['NUMBER_DENSE_UNITS']\n",
    "CONFIG.activation_function = siamese_config['ACTIVATION_FUNCTION']\n",
    "CONFIG.rate_drop_dense = siamese_config['RATE_DROP_DENSE']\n",
    "CONFIG.validation_split_ratio = siamese_config['VALIDATION_SPLIT']\n",
    "\n",
    "siamese = SiameseBiLSTM(CONFIG.embedding_dim , CONFIG.max_sequence_length, CONFIG.number_lstm_units , CONFIG.number_dense_units, \n",
    "                 CONFIG.rate_drop_lstm, CONFIG.rate_drop_dense, CONFIG.activation_function, CONFIG.validation_split_ratio)\n",
    "\n",
    "best_model_path, model, history = siamese.train_model(sentences_pair, is_similar, embedding_meta_data, model_save_directory='./', epochs = 500, threshold = 0.3)\n"
   ]
  },
  {
   "cell_type": "code",
   "execution_count": 3,
   "metadata": {},
   "outputs": [],
   "source": [
    "# thresholds = [i/10 for i in range(11)]\n",
    "# precision_at_diff_thresholds = []\n",
    "# recall_at_diff_thresholds = []\n",
    "# for threshold in thresholds:\n",
    "#     print (threshold)\n",
    "#     best_model_path, model, history = siamese.train_model(sentences_pair, is_similar, embedding_meta_data, model_save_directory='./', epochs = 200, threshold = threshold)\n",
    "#     precision_at_diff_thresholds.append(history.history['precision'][-1])\n",
    "#     recall_at_diff_thresholds.append(history.history['recall'][-1])"
   ]
  },
  {
   "cell_type": "code",
   "execution_count": 7,
   "metadata": {},
   "outputs": [],
   "source": [
    "best_model_path = './checkpoints/lstm_%d_%d_%.2f_%.2f/lstm_%d_%d_%.2f_%.2f.h5' % (CONFIG.number_lstm_units, CONFIG.number_dense_units, CONFIG.rate_drop_lstm, CONFIG.rate_drop_dense, CONFIG.number_lstm_units, CONFIG.number_dense_units, CONFIG.rate_drop_lstm, CONFIG.rate_drop_dense)\n"
   ]
  },
  {
   "cell_type": "code",
   "execution_count": null,
   "metadata": {},
   "outputs": [],
   "source": [
    "# best_model_path, model, history = siamese.update_model(best_model_path, sentences_pair, is_similar, embedding_meta_data, epochs = 50, threshold = 0.1)"
   ]
  },
  {
   "cell_type": "code",
   "execution_count": 8,
   "metadata": {},
   "outputs": [
    {
     "name": "stdout",
     "output_type": "stream",
     "text": [
      "('What should I do to be a great geologist?', 0.5764089)\n",
      "('How can I be a good geologist?', 0.546425)\n",
      "('How does Quora look to a moderator?', 0.541574)\n",
      "(\"What's it like to be a firefighter?\", 0.5317423)\n",
      "('How accurately can a mental illness can be diagnosed?', 0.5229017)\n"
     ]
    }
   ],
   "source": [
    "def predictor(sentence):\n",
    "    sent_test = []\n",
    "    for i in range(len(sentences1 + sentences2)):\n",
    "        sent_test.append(sentence)\n",
    "\n",
    "    # print (sent_test)\n",
    "    # print (len(sent_test))\n",
    "    test_sentences_pair = [(x1, x2) for x1, x2 in zip(sent_test,sentences1 + sentences2)]\n",
    "    # print (len(test_sentences_pair))\n",
    "    # print (test_sentences_pair)\n",
    "    test_data_x1, test_data_x2, leaks_test = create_test_data(tokenizer,test_sentences_pair,  siamese_config['MAX_SEQUENCE_LENGTH'])\n",
    "    # print (test_data_x1[0:10])\n",
    "    # print (test_data_x2[0:10])\n",
    "    # print (leaks_test[0:10])\n",
    "    preds = list(model.predict([test_data_x1, test_data_x2, leaks_test], verbose=0).ravel())\n",
    "    # print (len(preds))\n",
    "    results = [(x, y, z) for (x, y), z in zip(test_sentences_pair, preds)]\n",
    "    results.sort(key=itemgetter(2), reverse=True)\n",
    "    for i in range(5):\n",
    "        print(results[i][1:])\n",
    "        \n",
    "        \n",
    "# print (best_model_path,'\\n')\n",
    "# model = load_model(best_model_path, custom_objects = {'precision' : precision_threshold(0.3), 'recall':recall_threshold(0.3)})\n",
    "sentence = 'how to be a great geologist'\n",
    "predictor(sentence)        "
   ]
  },
  {
   "cell_type": "code",
   "execution_count": 59,
   "metadata": {},
   "outputs": [
    {
     "name": "stdout",
     "output_type": "stream",
     "text": [
      "('How do I utilize free time to avoid depression?', 0.5506426)\n",
      "('How to make friends ?', 0.542944)\n",
      "('How can one learn to trust again?', 0.51589745)\n",
      "('How do we avoid whey in Yogurt?', 0.51450825)\n",
      "('How does Quora look to a moderator?', 0.51086336)\n"
     ]
    }
   ],
   "source": [
    "sentence = 'how to avoid drugs'\n",
    "predictor(sentence)"
   ]
  },
  {
   "cell_type": "code",
   "execution_count": 60,
   "metadata": {},
   "outputs": [
    {
     "name": "stdout",
     "output_type": "stream",
     "text": [
      "('Should I buy tiago?', 0.49388272)\n",
      "('How do I earn from Quora?', 0.43972158)\n",
      "('What is CPAGrip.com?', 0.4222716)\n",
      "('What is bestmytest.com?', 0.4222716)\n",
      "('Do animals kiss?', 0.4150909)\n"
     ]
    }
   ],
   "source": [
    "sentence = 'buy from amazon'\n",
    "predictor(sentence)"
   ]
  },
  {
   "cell_type": "code",
   "execution_count": 34,
   "metadata": {
    "scrolled": true
   },
   "outputs": [
    {
     "name": "stdout",
     "output_type": "stream",
     "text": [
      "('What is the best way to become a billionaire?', 0.5711422)\n",
      "('What is the best way to get traffic on your website?', 0.57000434)\n",
      "('What is the best way to start robotics? Which is the best development board that I can start working on it?', 0.56670696)\n",
      "('What is the best phone to buy below 15k?', 0.55450886)\n",
      "('What is the quickest way to increase Instagram followers?', 0.5535506)\n"
     ]
    }
   ],
   "source": [
    "sentence = 'what is the best way to start learning'\n",
    "predictor(sentence)"
   ]
  },
  {
   "cell_type": "code",
   "execution_count": 13,
   "metadata": {},
   "outputs": [
    {
     "name": "stdout",
     "output_type": "stream",
     "text": [
      "('What is the step by step guide to invest in share market?', 0.4954316)\n",
      "('What is the step by step guide to invest in share market in india?', 0.4521498)\n",
      "('What is CPAGrip.com?', 0.40070257)\n",
      "('What is bestmytest.com?', 0.40070257)\n",
      "('Do animals kiss?', 0.39355332)\n"
     ]
    }
   ],
   "source": [
    "sentence = 'share market invest'\n",
    "predictor(sentence)"
   ]
  },
  {
   "cell_type": "code",
   "execution_count": 14,
   "metadata": {},
   "outputs": [
    {
     "name": "stdout",
     "output_type": "stream",
     "text": [
      "('What are the questions should not ask on Quora?', 0.47282192)\n",
      "('What should I ask my crush?', 0.43335855)\n",
      "('What is CPAGrip.com?', 0.4203115)\n",
      "('What is bestmytest.com?', 0.4203115)\n",
      "('Do animals kiss?', 0.41275564)\n"
     ]
    }
   ],
   "source": [
    "sentence = 'dont ask questions'\n",
    "predictor(sentence)"
   ]
  },
  {
   "cell_type": "code",
   "execution_count": 15,
   "metadata": {},
   "outputs": [
    {
     "name": "stdout",
     "output_type": "stream",
     "text": [
      "('Which is the best programming language?', 0.47780427)\n",
      "('Which is the best programing language for tcs?', 0.4390646)\n",
      "('What is CPAGrip.com?', 0.43452653)\n",
      "('What is bestmytest.com?', 0.43452653)\n",
      "('Do animals kiss?', 0.42676213)\n"
     ]
    }
   ],
   "source": [
    "sentence = 'language'\n",
    "predictor(sentence)"
   ]
  },
  {
   "cell_type": "code",
   "execution_count": 16,
   "metadata": {},
   "outputs": [
    {
     "name": "stdout",
     "output_type": "stream",
     "text": [
      "('Which are the best engineering fields?', 0.50202715)\n",
      "('What is the best travel website?', 0.4791104)\n",
      "('What is the best fixed income fund?', 0.47903904)\n",
      "('Which is the best programming language?', 0.4707394)\n",
      "('Which is the best fixed income fund?', 0.47049996)\n"
     ]
    }
   ],
   "source": [
    "sentence = 'best'\n",
    "predictor(sentence)"
   ]
  },
  {
   "cell_type": "code",
   "execution_count": 17,
   "metadata": {},
   "outputs": [
    {
     "name": "stdout",
     "output_type": "stream",
     "text": [
      "('How is the average speed of gas molecules determined?', 0.5096491)\n",
      "('What is purpose of life?', 0.46092185)\n",
      "('Who were the creators of trigonometry?', 0.45317978)\n",
      "('How do you think of Chinese food?', 0.43683353)\n",
      "('What are the types of immunity?', 0.4361958)\n"
     ]
    }
   ],
   "source": [
    "sentence = 'speed of '\n",
    "predictor(sentence)"
   ]
  },
  {
   "cell_type": "code",
   "execution_count": 18,
   "metadata": {},
   "outputs": [
    {
     "name": "stdout",
     "output_type": "stream",
     "text": [
      "('What are good books to self study calculus?', 0.5916081)\n",
      "('What are some tricks to study effectively?', 0.51542586)\n",
      "('How to make friends ?', 0.45997742)\n",
      "('How should I study', 0.4598097)\n",
      "('What should I do to be a good Speaker?', 0.45300236)\n"
     ]
    }
   ],
   "source": [
    "sentence = 'good to study'\n",
    "predictor(sentence)"
   ]
  },
  {
   "cell_type": "code",
   "execution_count": 19,
   "metadata": {},
   "outputs": [
    {
     "name": "stdout",
     "output_type": "stream",
     "text": [
      "(\"What's the difference between between and among?\", 0.47038653)\n",
      "(\"What's the difference between love and pity?\", 0.46999732)\n",
      "(\"What's the difference between honest and sincere?\", 0.46986407)\n",
      "('What is the difference between love and pity?', 0.44565904)\n",
      "('What is the difference between bay, gulf and straits?', 0.44563234)\n"
     ]
    }
   ],
   "source": [
    "sentence = 'difference'\n",
    "predictor(sentence)"
   ]
  },
  {
   "cell_type": "code",
   "execution_count": 61,
   "metadata": {},
   "outputs": [
    {
     "name": "stdout",
     "output_type": "stream",
     "text": [
      "('What is the meaning of the future?', 0.55199736)\n",
      "(\"What's are the meaning of life?\", 0.547777)\n",
      "('What the meaning of this all life?', 0.5373272)\n",
      "('What is purpose of life?', 0.4606711)\n",
      "('Who were the creators of trigonometry?', 0.45298803)\n"
     ]
    }
   ],
   "source": [
    "sentence = 'meaning of'\n",
    "predictor(sentence)"
   ]
  },
  {
   "cell_type": "code",
   "execution_count": 21,
   "metadata": {},
   "outputs": [
    {
     "name": "stdout",
     "output_type": "stream",
     "text": [
      "('What are the pros and cons of having a pet German Shepherd?', 0.5895676)\n",
      "('What are the pros and cons of the Common Core Standards Initiative?', 0.5690705)\n",
      "('What are the pros and cons of the German Shepherd dog?', 0.56597865)\n",
      "('What are the disadvantages of listing a company in NSE?', 0.52503324)\n",
      "('What are the benefits of listing a company in NSE?', 0.5249763)\n"
     ]
    }
   ],
   "source": [
    "sentence = 'What are the pros and cons of a pet dog?'\n",
    "predictor(sentence)"
   ]
  },
  {
   "cell_type": "code",
   "execution_count": 22,
   "metadata": {},
   "outputs": [
    {
     "name": "stdout",
     "output_type": "stream",
     "text": [
      "('What are the pros and cons of the German Shepherd dog?', 0.5251115)\n",
      "('What are the pros and cons of the Common Core Standards Initiative?', 0.48747477)\n",
      "('What are the pros and cons of having a pet German Shepherd?', 0.4348281)\n",
      "('What exactly is the \"Common Core Initiative/Standards\" and what are the pros and cons?', 0.4329614)\n",
      "('What is CPAGrip.com?', 0.40378097)\n"
     ]
    }
   ],
   "source": [
    "sentence = 'pros and cons'\n",
    "predictor(sentence)"
   ]
  },
  {
   "cell_type": "code",
   "execution_count": 23,
   "metadata": {},
   "outputs": [
    {
     "name": "stdout",
     "output_type": "stream",
     "text": [
      "('How can I stop being afraid of working?', 0.5554533)\n",
      "('How can I stop being addicted to love?', 0.5550023)\n",
      "('How do you stop being afraid of everything?', 0.5547821)\n",
      "('How can I stop being so possessive?', 0.5492381)\n",
      "('How can I maintain my peace of mind?', 0.53376925)\n"
     ]
    }
   ],
   "source": [
    "sentence = 'How can I stop being afraid of working?'\n",
    "predictor(sentence)"
   ]
  },
  {
   "cell_type": "code",
   "execution_count": 24,
   "metadata": {},
   "outputs": [
    {
     "name": "stdout",
     "output_type": "stream",
     "text": [
      "('What are some examples of sentences using the word \"hysteria\"?', 0.5497296)\n",
      "('What are some of the best rap songs?', 0.5424606)\n",
      "('What are some of the products made from crude oil?', 0.5420189)\n",
      "('What are some of the major influences of abstract expressionism?', 0.54094857)\n",
      "('What are some of the best YouTube channels for learning Git?', 0.5309045)\n"
     ]
    }
   ],
   "source": [
    "sentence = 'What are some examples of sentences using the word \"hysteria\"?'\n",
    "predictor(sentence)"
   ]
  },
  {
   "cell_type": "code",
   "execution_count": 25,
   "metadata": {},
   "outputs": [
    {
     "name": "stdout",
     "output_type": "stream",
     "text": [
      "('What is journalism for you?', 0.5868764)\n",
      "('What is the cheapest toothpaste?', 0.5401307)\n",
      "('What is a Yantra & Mantra?', 0.5393327)\n",
      "('What is my puk code?', 0.53770065)\n",
      "('What is your bucket list?', 0.53614205)\n"
     ]
    }
   ],
   "source": [
    "sentence = 'What is journalism?'\n",
    "predictor(sentence)"
   ]
  },
  {
   "cell_type": "code",
   "execution_count": 26,
   "metadata": {},
   "outputs": [
    {
     "name": "stdout",
     "output_type": "stream",
     "text": [
      "('Operation executive salary in Infosys?', 0.5277201)\n",
      "('Will Modi win in 2019?', 0.43058425)\n",
      "('What is in bone marrow?', 0.41077903)\n",
      "('Which course is better in NICMAR?', 0.39602327)\n",
      "('How can I get entry in MIT?', 0.37966445)\n"
     ]
    }
   ],
   "source": [
    "sentence = 'Operation executive salary in Infosys?'\n",
    "predictor(sentence)"
   ]
  },
  {
   "cell_type": "code",
   "execution_count": 27,
   "metadata": {},
   "outputs": [
    {
     "name": "stdout",
     "output_type": "stream",
     "text": [
      "('If space is expanding, where does the new space come from?', 0.5481141)\n",
      "('How bad is the new book by J.K Rowling?', 0.41789234)\n",
      "('What is the web application framework?', 0.3830253)\n",
      "('What is the strongest Kevlar cord?', 0.38292155)\n",
      "('How is The Canterbury Tales a satire?', 0.3736614)\n"
     ]
    }
   ],
   "source": [
    "sentence = 'If space is expanding, where does the new space come from?'\n",
    "predictor(sentence)"
   ]
  },
  {
   "cell_type": "code",
   "execution_count": 28,
   "metadata": {},
   "outputs": [
    {
     "name": "stdout",
     "output_type": "stream",
     "text": [
      "('What is the best reference book for physics class 11th?', 0.5546011)\n",
      "('What is the best recipe for chicken pizza?', 0.55419713)\n",
      "('What is the best diet for a growing decathlete?', 0.55255127)\n",
      "('What is the best university in Germany for an MS?', 0.54940265)\n",
      "('What is the best forum for graphic designers?', 0.54641575)\n"
     ]
    }
   ],
   "source": [
    "sentence = 'What is the best recipe for chicken pizza?'\n",
    "predictor(sentence)"
   ]
  },
  {
   "cell_type": "code",
   "execution_count": 35,
   "metadata": {},
   "outputs": [
    {
     "name": "stdout",
     "output_type": "stream",
     "text": [
      "('What is the best recipe for chicken pizza?', 0.56831)\n",
      "('What is the best reference book for physics class 11th?', 0.5660164)\n",
      "('What is the best diet for a growing decathlete?', 0.56512356)\n",
      "('What is the best university in Germany for an MS?', 0.56161845)\n",
      "('What is the best forum for graphic designers?', 0.5531717)\n"
     ]
    }
   ],
   "source": [
    "sentence = 'What is the best forum for graphic designers?'\n",
    "predictor(sentence)"
   ]
  },
  {
   "cell_type": "code",
   "execution_count": 30,
   "metadata": {},
   "outputs": [
    {
     "name": "stdout",
     "output_type": "stream",
     "text": [
      "('How bad is the new book by J.K Rowling?', 0.553813)\n",
      "(\"How is the new Harry Potter book 'Harry Potter and the Cursed Child'?\", 0.54201293)\n",
      "('How is The Canterbury Tales a satire?', 0.49521947)\n",
      "('What is the best book ever made?', 0.47748813)\n",
      "('How is the average speed of gas molecules determined?', 0.44735038)\n"
     ]
    }
   ],
   "source": [
    "sentence = 'How bad is the new book by J.K Rowling?'\n",
    "predictor(sentence)"
   ]
  },
  {
   "cell_type": "code",
   "execution_count": 31,
   "metadata": {},
   "outputs": [
    {
     "name": "stdout",
     "output_type": "stream",
     "text": [
      "('How is The Canterbury Tales a satire?', 0.5524609)\n",
      "('What is the temperament of a Bullmastiff/Husky mix?', 0.5253306)\n",
      "('What is the temperament of a Corgi-Husky mix?', 0.5253306)\n",
      "('How does a fetus exhale in the womb?', 0.5082909)\n",
      "('What is the cheapest toothpaste?', 0.48646894)\n"
     ]
    }
   ],
   "source": [
    "sentence = 'How is The Canterbury Tales a satire?'\n",
    "predictor(sentence)"
   ]
  },
  {
   "cell_type": "code",
   "execution_count": 44,
   "metadata": {},
   "outputs": [
    {
     "name": "stdout",
     "output_type": "stream",
     "text": [
      "('What universities does Sigma Designs recruit new grads from? What majors are they looking for?', 0.5517547)\n",
      "('What universities does B&G Foods recruit new grads from? What majors are they looking for?', 0.55132717)\n",
      "('What universities does Sigma-Aldrich recruit new grads from? What majors are they looking for?', 0.54947156)\n",
      "('What universities does Rexnord recruit new grads from? What majors are they looking for?', 0.5494174)\n",
      "('What universities does Chart Industries recruit new grads from? What majors are they looking for?', 0.54571015)\n"
     ]
    }
   ],
   "source": [
    "sentence = 'What universities does Industries recruit new grads from? What majors are they looking for?'\n",
    "predictor(sentence)"
   ]
  },
  {
   "cell_type": "code",
   "execution_count": 47,
   "metadata": {},
   "outputs": [
    {
     "name": "stdout",
     "output_type": "stream",
     "text": [
      "('What is the best way to get traffic on your website?', 0.6023152)\n",
      "('What is the way to watch Comedy Nights with Kapil live on the sets?', 0.6002866)\n",
      "('What is the best way to become a billionaire?', 0.5891419)\n",
      "('What is the best phone to buy below 15k?', 0.56713414)\n",
      "('What is the quickest way to increase Instagram followers?', 0.5662622)\n"
     ]
    }
   ],
   "source": [
    "sentence = 'What is the best way to live'\n",
    "predictor(sentence)"
   ]
  },
  {
   "cell_type": "code",
   "execution_count": 58,
   "metadata": {},
   "outputs": [
    {
     "name": "stdout",
     "output_type": "stream",
     "text": [
      "('What is a least natural number?', 0.5524322)\n",
      "('What is a cover story?', 0.52824557)\n",
      "('What is a narcissistic personality disorder?', 0.52817214)\n",
      "('What is the temperament of a Bullmastiff/Husky mix?', 0.52756727)\n",
      "('What is the temperament of a Corgi-Husky mix?', 0.52756727)\n"
     ]
    }
   ],
   "source": [
    "sentence = 'What is a least natural number?'\n",
    "predictor(sentence)"
   ]
  },
  {
   "cell_type": "code",
   "execution_count": 57,
   "metadata": {},
   "outputs": [
    {
     "name": "stdout",
     "output_type": "stream",
     "text": [
      "('What is a least natural number?', 0.5747281)\n",
      "('What is a cover story?', 0.5419528)\n",
      "('What is a narcissistic personality disorder?', 0.5418925)\n",
      "('What is the temperament of a Bullmastiff/Husky mix?', 0.54161316)\n",
      "('What is the temperament of a Corgi-Husky mix?', 0.54161316)\n"
     ]
    }
   ],
   "source": [
    "sentence = 'What is a natural number?'\n",
    "predictor(sentence)"
   ]
  },
  {
   "cell_type": "code",
   "execution_count": 53,
   "metadata": {},
   "outputs": [
    {
     "name": "stdout",
     "output_type": "stream",
     "text": [
      "('Can I make 50,000 a month by day trading?', 0.6168979)\n",
      "('Can I make 30,000 a month by day trading?', 0.61687696)\n",
      "('How can I be a good geologist?', 0.54656726)\n",
      "('How can I become a billionaire?', 0.5465086)\n",
      "('How can I become a good speaker?', 0.54596263)\n"
     ]
    }
   ],
   "source": [
    "sentence = 'Can I make 100,000 a month?'\n",
    "predictor(sentence)"
   ]
  },
  {
   "cell_type": "code",
   "execution_count": 49,
   "metadata": {},
   "outputs": [
    {
     "name": "stdout",
     "output_type": "stream",
     "text": [
      "(\"Do you apply for programs like RSI when you're a rising senior?\", 0.5499433)\n",
      "('How do you get a book published?', 0.4291916)\n",
      "('How do you register a .an domain?', 0.41486493)\n",
      "('How do you keep motivated when you learn a new language?', 0.41460964)\n",
      "('When do you use \"&\" instead of \"and\"?', 0.4025544)\n"
     ]
    }
   ],
   "source": [
    "sentence = \"Do you apply for programs like RSI when you're a rising senior?\"\n",
    "predictor(sentence)"
   ]
  },
  {
   "cell_type": "code",
   "execution_count": 50,
   "metadata": {},
   "outputs": [
    {
     "name": "stdout",
     "output_type": "stream",
     "text": [
      "(\"Do you apply for programs like RSI when you're a rising senior?\", 0.5149193)\n",
      "('Do you regret your divorce?', 0.5006508)\n",
      "('Do you need friends?', 0.4987615)\n",
      "('How do we prepare for UPSC?', 0.49759206)\n",
      "('What is journalism for you?', 0.49394774)\n"
     ]
    }
   ],
   "source": [
    "sentence = \"Do you apply for car loans?\"\n",
    "predictor(sentence)"
   ]
  },
  {
   "cell_type": "code",
   "execution_count": 32,
   "metadata": {},
   "outputs": [
    {
     "name": "stdout",
     "output_type": "stream",
     "text": [
      "(450, 12)\n",
      "[[   2  673 1391    1 1392  674 2483    0    0    0    0    0]\n",
      " [   2   19    1  424  328 1999   22    1 1005 2000 2001  210]\n",
      " [   2   11    1  134  983  784    8   67    0    0    0    0]\n",
      " [   2    3    8  864 2620    0    0    0    0    0    0    0]\n",
      " [   1  121    6  824    8    1 1187   15    9  826 1619  827]\n",
      " [   4    9   40  320 1860    8    0    0    0    0    0    0]\n",
      " [ 642  398   10 1075    4    3    1  399  109   45    0    0]\n",
      " [  33   13    5  270   16  574  575    0    0    0    0    0]\n",
      " [   4    9    5   55  211    0    0    0    0    0    0    0]\n",
      " [1828  959  175   44  176   29    2  177   11   50  147   14]]\n",
      "(450, 12)\n",
      "[[   2  673   13 1126    1  413  674 2483    0    0    0    0]\n",
      " [   4    9   17   60    6 2924 2925   72   58    8    6    0]\n",
      " [  24   11    1  134 2800    8  364  983 2801    8   67   12]\n",
      " [   2   19  864 2620 2621   39    0    0    0    0    0    0]\n",
      " [   8    6  824    8    1 1187   15    9  826   12  827    0]\n",
      " [   3  200 2783    6 2784   10    6  331    0    0    0    0]\n",
      " [   2  509   43   17  116    7  266    7   34 2244  157   17]\n",
      " [  33   13    5  270  574  575    0    0    0    0    0    0]\n",
      " [   4    7   55  211    0    0    0    0    0    0    0    0]\n",
      " [1105  959  175   44  176   29    2  177   11   50  147   14]]\n",
      "(49, 12)\n",
      "(49, 12)\n",
      "(450, 3)\n",
      "(49, 3)\n"
     ]
    }
   ],
   "source": [
    "# train_data_x1, train_data_x2, train_labels, leaks_train, val_data_x1, val_data_x2, val_labels, leaks_val = create_train_dev_set(tokenizer, sentences_pair,\n",
    "#                                                                                is_similar, CONFIG.max_sequence_length,\n",
    "#                                                                                CONFIG.validation_split_ratio)\n",
    "# print (train_data_x1.shape)\n",
    "# print (train_data_x1[:10])\n",
    "# print (train_data_x2.shape)\n",
    "# print (train_data_x2[:10])\n",
    "# print (val_data_x1.shape)\n",
    "# print (val_data_x2.shape)\n",
    "# print (leaks_train.shape)\n",
    "# print (leaks_val.shape)"
   ]
  },
  {
   "cell_type": "code",
   "execution_count": 33,
   "metadata": {},
   "outputs": [],
   "source": [
    "# test_sentence_pairs = [('What can make Physics easy to learn?','How can you make chemistry easy to learn?'),('What can make Physics easy to learn?','How can you make physics easy to learn?'),('What can make Physics easy to learn?','I am a boy.')]\n",
    "# #                        ,('How many times a day do a clocks hands overlap?','What does it mean that every time I look at the clock the numbers are the same?')]\n",
    "\n",
    "# test_data_x1, test_data_x2, leaks_test = create_test_data(tokenizer,test_sentence_pairs,  siamese_config['MAX_SEQUENCE_LENGTH'])\n",
    "# # print (test_data_x1.shape)\n",
    "# # print (test_data_x2.shape)\n",
    "\n",
    "# preds = list(model.predict([test_data_x1, test_data_x2, leaks_test], verbose=0).ravel())\n",
    "# results = [(x, y, z) for (x, y), z in zip(test_sentence_pairs, preds)]\n",
    "# results.sort(key=itemgetter(2), reverse=True)\n",
    "# print(results)"
   ]
  },
  {
   "cell_type": "code",
   "execution_count": null,
   "metadata": {},
   "outputs": [],
   "source": []
  }
 ],
 "metadata": {
  "kernelspec": {
   "display_name": "Python 3",
   "language": "python",
   "name": "python3"
  },
  "language_info": {
   "codemirror_mode": {
    "name": "ipython",
    "version": 3
   },
   "file_extension": ".py",
   "mimetype": "text/x-python",
   "name": "python",
   "nbconvert_exporter": "python",
   "pygments_lexer": "ipython3",
   "version": "3.6.5"
  }
 },
 "nbformat": 4,
 "nbformat_minor": 2
}
